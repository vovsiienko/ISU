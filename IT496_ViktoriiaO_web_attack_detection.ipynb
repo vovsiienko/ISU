{
  "cells": [
    {
      "cell_type": "markdown",
      "metadata": {
        "id": "view-in-github",
        "colab_type": "text"
      },
      "source": [
        "<a href=\"https://colab.research.google.com/github/vovsiienko/IT496_Course_acitvities/blob/master/IT496_ViktoriiaO_web_attack_detection.ipynb\" target=\"_parent\"><img src=\"https://colab.research.google.com/assets/colab-badge.svg\" alt=\"Open In Colab\"/></a>"
      ]
    },
    {
      "cell_type": "markdown",
      "source": [
        "**Sources:**\n",
        "\n",
        "**Article:** \"How to develop a system for detecting computer attacks based on machine learning\"\n",
        "https://habr.com/ru/post/538296/\n",
        "\n",
        "**GitHub:** https://github.com/fisher85/ml-cybersecurity"
      ],
      "metadata": {
        "id": "rY-D7j6JN_Zk"
      }
    },
    {
      "cell_type": "markdown",
      "metadata": {
        "id": "tGLYJuXmFBZI"
      },
      "source": [
        "# Web attack detection using CICIDS2017 dataset"
      ]
    },
    {
      "cell_type": "markdown",
      "metadata": {
        "id": "sNPL1uYLFF1U"
      },
      "source": [
        "Training data: \"Intrusion Detection Evaluation Dataset\" (CICIDS2017). Description page: https://www.unb.ca/cic/datasets/ids-2017.html\n",
        "\n",
        "The data set is public. Download link: http://205.174.165.80/CICDataset/CIC-IDS-2017/Dataset/\n",
        "\n",
        "CICIDS2017 combines 8 files recorded on different days of observation (PCAP + CSV). Used archive: http://205.174.165.80/CICDataset/CIC-IDS-2017/Dataset/GeneratedLabelledFlows.zip\n",
        "\n",
        "In the downloaded archive GeneratedLabelledFlows.zip the file \"Thursday\" Thursday-WorkingHours-Morning-WebAttacks.pcap_ISCX.csv is selected.\n",
        "\n",
        "Sources:\n",
        "\n",
        "* [Sharafaldin2018] Iman Sharafaldin, Arash Habibi Lashkari and Ali A. Ghorbani. Toward Generating a New Intrusion Detection Dataset and Intrusion Traffic Characterization. 2018\n",
        "* [Kostas2018] Kahraman Kostas. Anomaly Detection in Networks Using Machine Learning. 2018 (error was found in assessing the importance of features)\n",
        "* https://github.com/bozbil/Anomaly-Detection-in-Networks-Using-Machine-Learning (error was found in assessing the importance of features)"
      ]
    },
    {
      "cell_type": "markdown",
      "metadata": {
        "id": "SCEkDfpOFPQX"
      },
      "source": [
        "## Data preprocessing\n",
        "\n",
        "Source: https://github.com/bozbil/Anomaly-Detection-in-Networks-Using-Machine-Learning/blob/master/01_preprocessing.ipynb [Kostas2018]."
      ]
    },
    {
      "cell_type": "code",
      "execution_count": null,
      "metadata": {
        "id": "hJVAToeYFV2Q"
      },
      "outputs": [],
      "source": [
        "import pandas as pd\n",
        "import numpy as np\n",
        "from sklearn import preprocessing\n",
        "import matplotlib.pyplot as plt\n",
        "%matplotlib inline"
      ]
    },
    {
      "cell_type": "markdown",
      "metadata": {
        "id": "C39Mvne0LOOj"
      },
      "source": [
        "Download the dataset from Github to Google Colab and unzip it."
      ]
    },
    {
      "cell_type": "code",
      "execution_count": null,
      "metadata": {
        "colab": {
          "base_uri": "https://localhost:8080/"
        },
        "id": "-cbGalBALOOk",
        "outputId": "a0362471-91ed-4f13-d9f9-bcdf1a48f3ff"
      },
      "outputs": [
        {
          "output_type": "stream",
          "name": "stdout",
          "text": [
            "--2022-06-20 03:38:56--  https://github.com/fisher85/ml-cybersecurity/blob/master/python-web-attack-detection/datasets/Thursday-WorkingHours-Morning-WebAttacks.pcap_ISCX.csv.zip?raw=true\n",
            "Resolving github.com (github.com)... 140.82.121.4\n",
            "Connecting to github.com (github.com)|140.82.121.4|:443... connected.\n",
            "HTTP request sent, awaiting response... 302 Found\n",
            "Location: https://github.com/fisher85/ml-cybersecurity/raw/master/python-web-attack-detection/datasets/Thursday-WorkingHours-Morning-WebAttacks.pcap_ISCX.csv.zip [following]\n",
            "--2022-06-20 03:38:56--  https://github.com/fisher85/ml-cybersecurity/raw/master/python-web-attack-detection/datasets/Thursday-WorkingHours-Morning-WebAttacks.pcap_ISCX.csv.zip\n",
            "Reusing existing connection to github.com:443.\n",
            "HTTP request sent, awaiting response... 302 Found\n",
            "Location: https://raw.githubusercontent.com/fisher85/ml-cybersecurity/master/python-web-attack-detection/datasets/Thursday-WorkingHours-Morning-WebAttacks.pcap_ISCX.csv.zip [following]\n",
            "--2022-06-20 03:38:56--  https://raw.githubusercontent.com/fisher85/ml-cybersecurity/master/python-web-attack-detection/datasets/Thursday-WorkingHours-Morning-WebAttacks.pcap_ISCX.csv.zip\n",
            "Resolving raw.githubusercontent.com (raw.githubusercontent.com)... 185.199.110.133, 185.199.109.133, 185.199.111.133, ...\n",
            "Connecting to raw.githubusercontent.com (raw.githubusercontent.com)|185.199.110.133|:443... connected.\n",
            "HTTP request sent, awaiting response... 200 OK\n",
            "Length: 15395091 (15M) [application/zip]\n",
            "Saving to: ‘dataset.zip’\n",
            "\n",
            "dataset.zip         100%[===================>]  14.68M  --.-KB/s    in 0.05s   \n",
            "\n",
            "2022-06-20 03:38:56 (291 MB/s) - ‘dataset.zip’ saved [15395091/15395091]\n",
            "\n",
            "Archive:  dataset.zip\n"
          ]
        }
      ],
      "source": [
        "!wget https://github.com/fisher85/ml-cybersecurity/blob/master/python-web-attack-detection/datasets/Thursday-WorkingHours-Morning-WebAttacks.pcap_ISCX.csv.zip?raw=true -O dataset.zip\n",
        "!unzip -u dataset.zip"
      ]
    },
    {
      "cell_type": "markdown",
      "metadata": {
        "id": "i4vnx_OaGAl0"
      },
      "source": [
        "We use \"engine=python\" to avoid the \"UnicodeDecodeError: 'utf-8' codec can't decode byte 0x96 in position 11: invalid start byte\" encoding error."
      ]
    },
    {
      "cell_type": "code",
      "execution_count": null,
      "metadata": {
        "id": "yIqeKHKYGCoz"
      },
      "outputs": [],
      "source": [
        "df = pd.read_csv('Thursday-WorkingHours-Morning-WebAttacks.pcap_ISCX.csv', engine='python', encoding='cp1252')"
      ]
    },
    {
      "cell_type": "markdown",
      "metadata": {
        "id": "3U-gQIAmhamL"
      },
      "source": [
        "Thursday-WorkingHours-Morning-WebAttacks.pcap_ISCX.csv file contains 458968 records, 85 columns."
      ]
    },
    {
      "cell_type": "code",
      "execution_count": null,
      "metadata": {
        "colab": {
          "base_uri": "https://localhost:8080/"
        },
        "id": "QMkibc_W4hpQ",
        "outputId": "f7a7cb9b-b1d6-4de3-c185-f4807387f00e"
      },
      "outputs": [
        {
          "output_type": "execute_result",
          "data": {
            "text/plain": [
              "(458968, 85)"
            ]
          },
          "metadata": {},
          "execution_count": 11
        }
      ],
      "source": [
        "df.shape"
      ]
    },
    {
      "cell_type": "markdown",
      "metadata": {
        "id": "E5kIR-daheeV"
      },
      "source": [
        "The columns \"Fwd Header Length\" and \"Fwd Header Length.1\" are identical, the second one is removed, 84 columns remain."
      ]
    },
    {
      "cell_type": "code",
      "execution_count": null,
      "metadata": {
        "colab": {
          "base_uri": "https://localhost:8080/"
        },
        "id": "83UFLCVlhjKF",
        "outputId": "1b7e181d-1279-4d64-a283-817644c0db57"
      },
      "outputs": [
        {
          "output_type": "execute_result",
          "data": {
            "text/plain": [
              "(458968, 84)"
            ]
          },
          "metadata": {},
          "execution_count": 12
        }
      ],
      "source": [
        "df.columns = df.columns.str.strip()\n",
        "df = df.drop(columns=['Fwd Header Length.1'])\n",
        "df.shape"
      ]
    },
    {
      "cell_type": "markdown",
      "metadata": {
        "id": "BIQQvtxZhiTZ"
      },
      "source": [
        "When assessing the distribution of labels, it turns out that out of 458968 records there are many blank records (\"BENIGN\" - benign background traffic)."
      ]
    },
    {
      "cell_type": "code",
      "execution_count": null,
      "metadata": {
        "colab": {
          "base_uri": "https://localhost:8080/"
        },
        "id": "HrGLjk5nhrGE",
        "outputId": "88235fae-dd3e-47d8-893e-4a138da6903b"
      },
      "outputs": [
        {
          "output_type": "execute_result",
          "data": {
            "text/plain": [
              "array(['BENIGN', 'Web Attack – Brute Force', 'Web Attack – XSS',\n",
              "       'Web Attack – Sql Injection', nan], dtype=object)"
            ]
          },
          "metadata": {},
          "execution_count": 13
        }
      ],
      "source": [
        "df['Label'].unique()"
      ]
    },
    {
      "cell_type": "code",
      "execution_count": null,
      "metadata": {
        "colab": {
          "base_uri": "https://localhost:8080/"
        },
        "id": "HnpQqQ8fhxwN",
        "outputId": "5230d9b5-a86d-40b8-dfdf-b5856afb4c15"
      },
      "outputs": [
        {
          "output_type": "execute_result",
          "data": {
            "text/plain": [
              "BENIGN                        168186\n",
              "Web Attack – Brute Force        1507\n",
              "Web Attack – XSS                 652\n",
              "Web Attack – Sql Injection        21\n",
              "Name: Label, dtype: int64"
            ]
          },
          "metadata": {},
          "execution_count": 14
        }
      ],
      "source": [
        "df['Label'].value_counts()"
      ]
    },
    {
      "cell_type": "markdown",
      "metadata": {
        "id": "l7lpytF7h6D4"
      },
      "source": [
        "Delete blank records."
      ]
    },
    {
      "cell_type": "code",
      "execution_count": null,
      "metadata": {
        "colab": {
          "base_uri": "https://localhost:8080/"
        },
        "id": "7ltfHW8dh7Tw",
        "outputId": "03a061e4-479d-4cdb-9a63-59b620dee6c8"
      },
      "outputs": [
        {
          "output_type": "execute_result",
          "data": {
            "text/plain": [
              "(170366, 84)"
            ]
          },
          "metadata": {},
          "execution_count": 15
        }
      ],
      "source": [
        "df = df.drop(df[pd.isnull(df['Flow ID'])].index)\n",
        "df.shape"
      ]
    },
    {
      "cell_type": "markdown",
      "metadata": {
        "id": "ZN6DKttXiH7J"
      },
      "source": [
        "The \"Flow Bytes/s\" and \"Flow Packets/s\" columns have non-numerical values, replace them."
      ]
    },
    {
      "cell_type": "code",
      "execution_count": null,
      "metadata": {
        "id": "mZ2ffToLi02x"
      },
      "outputs": [],
      "source": [
        "df.replace('Infinity', -1, inplace=True)\n",
        "df[[\"Flow Bytes/s\", \"Flow Packets/s\"]] = df[[\"Flow Bytes/s\", \"Flow Packets/s\"]].apply(pd.to_numeric)"
      ]
    },
    {
      "cell_type": "markdown",
      "metadata": {
        "id": "biLN6UraLOOu"
      },
      "source": [
        "Replace the NaN values and infinity values with -1."
      ]
    },
    {
      "cell_type": "code",
      "execution_count": null,
      "metadata": {
        "id": "MNB008xULOOu"
      },
      "outputs": [],
      "source": [
        "df.replace([np.inf, -np.inf, np.nan], -1, inplace=True)"
      ]
    },
    {
      "cell_type": "markdown",
      "metadata": {
        "id": "2JMv7gKfi4nI"
      },
      "source": [
        "Convert string characters to numbers, use LabelEncoder, not OneHotEncoder."
      ]
    },
    {
      "cell_type": "code",
      "execution_count": null,
      "metadata": {
        "colab": {
          "base_uri": "https://localhost:8080/"
        },
        "id": "XmYOMG0Ti8Wh",
        "outputId": "0667bfde-abc5-4c5e-a1f9-2aa2a29635ba"
      },
      "outputs": [
        {
          "output_type": "execute_result",
          "data": {
            "text/plain": [
              "['Flow ID', 'Source IP', 'Destination IP', 'Timestamp']"
            ]
          },
          "metadata": {},
          "execution_count": 18
        }
      ],
      "source": [
        "string_features = list(df.select_dtypes(include=['object']).columns)\n",
        "string_features.remove('Label')\n",
        "string_features"
      ]
    },
    {
      "cell_type": "code",
      "execution_count": null,
      "metadata": {
        "id": "ySZ2eW_2jCfQ"
      },
      "outputs": [],
      "source": [
        "le = preprocessing.LabelEncoder()\n",
        "df[string_features] = df[string_features].apply(lambda col: le.fit_transform(col))"
      ]
    },
    {
      "cell_type": "markdown",
      "metadata": {
        "id": "K94al8HAjJEN"
      },
      "source": [
        "### Undersampling against unbalance\n",
        "\n",
        "Dataset is unbalanced: total records = 170366, \"BENIGN\" records = 168186, records with attacks much less: 1507 + 652 + 21 = 2180."
      ]
    },
    {
      "cell_type": "code",
      "execution_count": null,
      "metadata": {
        "colab": {
          "base_uri": "https://localhost:8080/"
        },
        "id": "7K7iWbNMjWrZ",
        "outputId": "d6f327b7-310c-4267-fd7c-cf429d6623ae"
      },
      "outputs": [
        {
          "output_type": "execute_result",
          "data": {
            "text/plain": [
              "168186"
            ]
          },
          "metadata": {},
          "execution_count": 20
        }
      ],
      "source": [
        "benign_total = len(df[df['Label'] == \"BENIGN\"])\n",
        "benign_total"
      ]
    },
    {
      "cell_type": "code",
      "execution_count": null,
      "metadata": {
        "colab": {
          "base_uri": "https://localhost:8080/"
        },
        "id": "nVs_xEHFjY5q",
        "outputId": "5c6acc66-7173-488e-cd5e-b155a2d0fb5a"
      },
      "outputs": [
        {
          "output_type": "execute_result",
          "data": {
            "text/plain": [
              "2180"
            ]
          },
          "metadata": {},
          "execution_count": 21
        }
      ],
      "source": [
        "attack_total = len(df[df['Label'] != \"BENIGN\"])\n",
        "attack_total"
      ]
    },
    {
      "cell_type": "code",
      "execution_count": null,
      "metadata": {
        "colab": {
          "base_uri": "https://localhost:8080/"
        },
        "id": "PFvPOea2jhMt",
        "outputId": "521214b1-8fb0-4994-d14a-d581b4ba4f85"
      },
      "outputs": [
        {
          "output_type": "execute_result",
          "data": {
            "text/plain": [
              "BENIGN                        168186\n",
              "Web Attack – Brute Force        1507\n",
              "Web Attack – XSS                 652\n",
              "Web Attack – Sql Injection        21\n",
              "Name: Label, dtype: int64"
            ]
          },
          "metadata": {},
          "execution_count": 22
        }
      ],
      "source": [
        "df.to_csv(\"web_attacks_unbalanced.csv\", index=False)\n",
        "df['Label'].value_counts()"
      ]
    },
    {
      "cell_type": "markdown",
      "metadata": {
        "id": "6A9-rS7OjyFl"
      },
      "source": [
        "We use **undersampling** to correct class imbalances: we remove most of the \"BENIGN\" records.\n",
        "\n",
        "Form a balanced dataset web_attacks_balanced.csv in proportion: 30% attack (2180 records), 70% benign data (2180 / 30 * 70 ~ = 5087 records).\n",
        "\n",
        "Algorithm to form a balanced df_balanced dataset:\n",
        "\n",
        "* All the records with the attacks are copied to the new dataset.\n",
        "* There are two conditions for copying \"BENIGN\" records to the new dataset:\n",
        " \n",
        "     1. The next record is copyied with the benign_inc_probability.\n",
        "     2. The total number of \"BENIGN\" records must not exceed the limit of 5087 records."
      ]
    },
    {
      "cell_type": "markdown",
      "metadata": {
        "id": "aVZutNOZj_N9"
      },
      "source": [
        "Сalculate the probability of copying a \"BENIGN\" record. The enlargement multiplier is used to get exactly 70% benign data (5087 records)."
      ]
    },
    {
      "cell_type": "code",
      "execution_count": null,
      "metadata": {
        "colab": {
          "base_uri": "https://localhost:8080/"
        },
        "id": "XaW7sEjHkB3K",
        "outputId": "3385af9b-09ea-4630-888d-9b19451011bb"
      },
      "outputs": [
        {
          "output_type": "stream",
          "name": "stdout",
          "text": [
            "5086.666666666667 0.03326872232726466\n"
          ]
        }
      ],
      "source": [
        "enlargement = 1.1\n",
        "benign_included_max = attack_total / 30 * 70\n",
        "benign_inc_probability = (benign_included_max / benign_total) * enlargement\n",
        "print(benign_included_max, benign_inc_probability)"
      ]
    },
    {
      "cell_type": "markdown",
      "metadata": {
        "id": "G3ZXh6fTkFK_"
      },
      "source": [
        "Copy records from df to df_balanced, save dataset **web_attacks_balanced.csv**."
      ]
    },
    {
      "cell_type": "code",
      "execution_count": null,
      "metadata": {
        "id": "0MdiMPmdkICk"
      },
      "outputs": [],
      "source": [
        "import random\n",
        "indexes = []\n",
        "benign_included_count = 0\n",
        "for index, row in df.iterrows():\n",
        "    if (row['Label'] != \"BENIGN\"):\n",
        "        indexes.append(index)\n",
        "    else:\n",
        "        # Copying with benign_inc_probability\n",
        "        if random.random() > benign_inc_probability: continue\n",
        "        # Have we achieved 70% (5087 records)?\n",
        "        if benign_included_count > benign_included_max: continue\n",
        "        benign_included_count += 1\n",
        "        indexes.append(index)\n",
        "df_balanced = df.loc[indexes]"
      ]
    },
    {
      "cell_type": "code",
      "execution_count": null,
      "metadata": {
        "colab": {
          "base_uri": "https://localhost:8080/"
        },
        "id": "cqypBDIdkKN4",
        "outputId": "cc9d7139-be42-4ba0-c758-8316e4c8702f"
      },
      "outputs": [
        {
          "output_type": "execute_result",
          "data": {
            "text/plain": [
              "BENIGN                        5087\n",
              "Web Attack – Brute Force      1507\n",
              "Web Attack – XSS               652\n",
              "Web Attack – Sql Injection      21\n",
              "Name: Label, dtype: int64"
            ]
          },
          "metadata": {},
          "execution_count": 25
        }
      ],
      "source": [
        "df_balanced['Label'].value_counts()"
      ]
    },
    {
      "cell_type": "markdown",
      "metadata": {
        "id": "hDPCkmutkNYD"
      },
      "source": [
        "If necessary, we can keep a single class of attack for experiments."
      ]
    },
    {
      "cell_type": "code",
      "execution_count": null,
      "metadata": {
        "id": "1_q52wjdkPZ8"
      },
      "outputs": [],
      "source": [
        "# df_balanced = df_balanced[df_balanced['Label'] != \"Web Attack – Brute Force\"]\n",
        "# df_balanced = df_balanced[df_balanced['Label'] != \"Web Attack – Sql Injection\"]\n",
        "# df_balanced['Label'].value_counts()"
      ]
    },
    {
      "cell_type": "code",
      "execution_count": null,
      "metadata": {
        "id": "qiYFzlGkkSXe"
      },
      "outputs": [],
      "source": [
        "df_balanced.to_csv(\"web_attacks_balanced.csv\", index=False)"
      ]
    },
    {
      "cell_type": "markdown",
      "metadata": {
        "id": "-IEyQxBDt5sG"
      },
      "source": [
        "### Preparing data for training"
      ]
    },
    {
      "cell_type": "code",
      "execution_count": null,
      "metadata": {
        "id": "GM-byF64LOO2"
      },
      "outputs": [],
      "source": [
        "df = pd.read_csv('web_attacks_balanced.csv')"
      ]
    },
    {
      "cell_type": "markdown",
      "metadata": {
        "id": "66OCuzJsLOO2"
      },
      "source": [
        "The Label column is encoded as follows: \"BENIGN\" = 0, attack = 1."
      ]
    },
    {
      "cell_type": "code",
      "execution_count": null,
      "metadata": {
        "id": "m_61cEMGLOO2"
      },
      "outputs": [],
      "source": [
        "df['Label'] = df['Label'].apply(lambda x: 0 if x == 'BENIGN' else 1)"
      ]
    },
    {
      "cell_type": "markdown",
      "metadata": {
        "id": "Dy78SM8pLOO2"
      },
      "source": [
        "If necessary, we will work with our own dataset."
      ]
    },
    {
      "cell_type": "code",
      "execution_count": null,
      "metadata": {
        "id": "mc7PG9S4LOO2"
      },
      "outputs": [],
      "source": [
        "#!wget https://raw.githubusercontent.com/infosecdemos/ml-2020/master/ml-ids/datasets/mix_labelled.zip -O mix_labelled.zip\n",
        "#!unzip -u mix_labelled.zip"
      ]
    },
    {
      "cell_type": "code",
      "execution_count": null,
      "metadata": {
        "id": "G2blL3SOLOO2"
      },
      "outputs": [],
      "source": [
        "#df = pd.read_csv('mix_labelled.csv')\n",
        "#excluded = ['Flow Key', 'Flow Bytes/s', 'Flow MB/s', 'Fwd IAT Min', \n",
        "#            'Flow IAT Min', 'Packet Length Mean', 'Average Fwd Segment Size', 'Subflow Fwd Bytes',\n",
        "#            'Fwd Packets/s', 'Fwd IAT Total', 'Fwd IAT Max', 'Fwd IAT Mean',\n",
        "#            'Average Bwd Segment Size', 'Bwd Packet Length Mean', 'Packet Length List', 'Total Fwd Packets',\n",
        "#            'Packet Length Std', 'Packet Length Variance', 'Total Backword Packets', 'Fwd Packet Length Std',\n",
        "#            'Total Length of Bwd Packets', 'Bwd Header Length']\n",
        "#df = df.drop(columns=excluded, errors='ignore')"
      ]
    },
    {
      "cell_type": "markdown",
      "metadata": {
        "id": "1k2G5UAEt9cw"
      },
      "source": [
        "7 features (Flow ID, Source IP, Source Port, Destination IP, Destination Port, Protocol, Timestamp) are excluded from the dataset. The hypothesis is that the \"shape\" of the data being transmitted is more important than these attributes. In addition, ports and addresses can be substituted by an attacker, so it is better that the ML algorithm does not take these features into account in training [Kostas2018]."
      ]
    },
    {
      "cell_type": "code",
      "execution_count": null,
      "metadata": {
        "id": "8yza95R2t_1N"
      },
      "outputs": [],
      "source": [
        "excluded = ['Flow ID', 'Source IP', 'Source Port', 'Destination IP', 'Destination Port', 'Protocol', 'Timestamp']\n",
        "df = df.drop(columns=excluded, errors='ignore')"
      ]
    },
    {
      "cell_type": "markdown",
      "metadata": {
        "id": "eCxptOz2uDIV"
      },
      "source": [
        "Below at the stage of importance estimation the \"Init_Win_bytes_backward\" feature has the maximum value. After viewing the source dataset, it seems that an inaccuracy was made in forming the dataset. \n",
        "\n",
        "It turns out that it is possible to make a fairly accurate classification by one feature.\n",
        "\n",
        "Description of features: http://www.netflowmeter.ca/netflowmeter.html\n",
        "\n",
        "     Init_Win_bytes_backward - The total number of bytes sent in initial window in the backward direction\n",
        "     Init_Win_bytes_forward - The total number of bytes sent in initial window in the forward direction"
      ]
    },
    {
      "cell_type": "code",
      "execution_count": null,
      "metadata": {
        "colab": {
          "base_uri": "https://localhost:8080/",
          "height": 295
        },
        "id": "lYhtGKqJuUQA",
        "outputId": "1e9d3746-bcfe-46c6-ea4f-6318f0a81441"
      },
      "outputs": [
        {
          "output_type": "display_data",
          "data": {
            "text/plain": [
              "<Figure size 432x288 with 1 Axes>"
            ],
            "image/png": "[encoded data removed]"
          },
          "metadata": {
            "needs_background": "light"
          }
        }
      ],
      "source": [
        "if 'Init_Win_bytes_backward' in df.columns:\n",
        "    df['Init_Win_bytes_backward'].hist(figsize=(6,4), bins=10);\n",
        "    plt.title(\"Init_Win_bytes_backward\")\n",
        "    plt.xlabel(\"Value bins\")\n",
        "    plt.ylabel(\"Density\")\n",
        "    plt.savefig('Init_Win_bytes_backward.png', dpi=300)"
      ]
    },
    {
      "cell_type": "code",
      "execution_count": null,
      "metadata": {
        "colab": {
          "base_uri": "https://localhost:8080/",
          "height": 295
        },
        "id": "XPbBcbj_uYMV",
        "outputId": "74de0a60-b72d-4c4d-c4a9-0abe9201650e"
      },
      "outputs": [
        {
          "output_type": "display_data",
          "data": {
            "text/plain": [
              "<Figure size 432x288 with 1 Axes>"
            ],
            "image/png": "[encoded data removed]"
          },
          "metadata": {
            "needs_background": "light"
          }
        }
      ],
      "source": [
        "if 'Init_Win_bytes_forward' in df.columns:\n",
        "    df['Init_Win_bytes_forward'].hist(figsize=(6,4), bins=10);\n",
        "    plt.title(\"Init_Win_bytes_forward\")\n",
        "    plt.xlabel(\"Value bins\")\n",
        "    plt.ylabel(\"Density\")\n",
        "    plt.savefig('Init_Win_bytes_forward.png', dpi=300)"
      ]
    },
    {
      "cell_type": "code",
      "execution_count": null,
      "metadata": {
        "id": "Uw6liMMducM5"
      },
      "outputs": [],
      "source": [
        "excluded2 = ['Init_Win_bytes_backward', 'Init_Win_bytes_forward']\n",
        "df = df.drop(columns=excluded2, errors='ignore')"
      ]
    },
    {
      "cell_type": "code",
      "execution_count": null,
      "metadata": {
        "colab": {
          "base_uri": "https://localhost:8080/"
        },
        "id": "a-FDOBmOufo6",
        "outputId": "758c2ebf-ad5c-4252-ae2f-927259fed0b6"
      },
      "outputs": [
        {
          "output_type": "stream",
          "name": "stdout",
          "text": [
            "(7267, 74) (7267,)\n"
          ]
        }
      ],
      "source": [
        "y = df['Label'].values\n",
        "X = df.drop(columns=['Label'])\n",
        "print(X.shape, y.shape)"
      ]
    },
    {
      "cell_type": "markdown",
      "metadata": {
        "id": "3P69z9kfupES"
      },
      "source": [
        "## Feature importance"
      ]
    },
    {
      "cell_type": "code",
      "execution_count": null,
      "metadata": {
        "colab": {
          "base_uri": "https://localhost:8080/"
        },
        "id": "4BbvfnjTuzeX",
        "outputId": "142a83ad-f565-4e59-f643-cdfdf235f266"
      },
      "outputs": [
        {
          "output_type": "execute_result",
          "data": {
            "text/plain": [
              "{0: 3571, 1: 1515}"
            ]
          },
          "metadata": {},
          "execution_count": 37
        }
      ],
      "source": [
        "from sklearn.model_selection import train_test_split\n",
        "X_train, X_test, y_train, y_test = train_test_split(X, y, test_size=0.3, random_state=42)\n",
        "\n",
        "unique, counts = np.unique(y_train, return_counts=True)\n",
        "dict(zip(unique, counts))"
      ]
    },
    {
      "cell_type": "markdown",
      "metadata": {
        "id": "wE4AwrX1u6Hj"
      },
      "source": [
        "### Visualization of the decision tree, importance evaluation using a single tree (DecisionTreeClassifier)\n",
        " \n",
        "In the beginning we use one tree - for the convenience of visualization of the classifier. High cross-validation scores even with 5 leaves look suspiciously good, we should look at the data carefully. Parameters for change - test_size in the cell above (train_test_split), max_leaf_nodes in the cell below.\n",
        " \n",
        "By changing the **random_state** parameter, we will get different trees and different features with the highest importance. But the forest will already average individual trees below."
      ]
    },
    {
      "cell_type": "code",
      "execution_count": null,
      "metadata": {
        "colab": {
          "base_uri": "https://localhost:8080/"
        },
        "id": "JtVUvneuyAeI",
        "outputId": "c7c328e3-ca38-44fc-98c9-634ac6cffdd8"
      },
      "outputs": [
        {
          "output_type": "execute_result",
          "data": {
            "text/plain": [
              "array([0.94499018, 0.95481336, 0.95481336, 0.96463654, 0.95284872,\n",
              "       0.96070727, 0.95275591, 0.96259843, 0.9507874 , 0.95669291])"
            ]
          },
          "metadata": {},
          "execution_count": 38
        }
      ],
      "source": [
        "from sklearn.model_selection import cross_val_score\n",
        "from sklearn.tree import DecisionTreeClassifier\n",
        "decision_tree = DecisionTreeClassifier(max_leaf_nodes=5, random_state=0)\n",
        "decision_tree = decision_tree.fit(X_train, y_train)\n",
        "cross_val_score(decision_tree, X_train, y_train, cv=10)"
      ]
    },
    {
      "cell_type": "code",
      "execution_count": null,
      "metadata": {
        "colab": {
          "base_uri": "https://localhost:8080/"
        },
        "id": "cITpkfwyCqqU",
        "outputId": "2f9239fc-8bd3-4b1d-b2e3-6f87b6810f9d"
      },
      "outputs": [
        {
          "output_type": "stream",
          "name": "stdout",
          "text": [
            "|--- Packet Length Mean <= 0.60\n",
            "|   |--- PSH Flag Count <= 0.50\n",
            "|   |   |--- Bwd Packets/s <= 8929.28\n",
            "|   |   |   |--- class: 0\n",
            "|   |   |--- Bwd Packets/s >  8929.28\n",
            "|   |   |   |--- class: 1\n",
            "|   |--- PSH Flag Count >  0.50\n",
            "|   |   |--- class: 1\n",
            "|--- Packet Length Mean >  0.60\n",
            "|   |--- Subflow Fwd Bytes <= 31070.00\n",
            "|   |   |--- class: 0\n",
            "|   |--- Subflow Fwd Bytes >  31070.00\n",
            "|   |   |--- class: 1\n",
            "\n"
          ]
        }
      ],
      "source": [
        "from sklearn.tree import export_text\n",
        "r = export_text(decision_tree, feature_names=X_train.columns.to_list())\n",
        "print(r)"
      ]
    },
    {
      "cell_type": "code",
      "execution_count": null,
      "metadata": {
        "colab": {
          "base_uri": "https://localhost:8080/",
          "height": 519
        },
        "id": "6xpZlcv_-J_W",
        "outputId": "c398b352-a7a2-4566-c1a2-54ca8015253e"
      },
      "outputs": [
        {
          "output_type": "execute_result",
          "data": {
            "text/plain": [
              "<graphviz.files.Source at 0x7f2ab5437850>"
            ],
            "image/svg+xml": "<?xml version=\"1.0\" encoding=\"UTF-8\" standalone=\"no\"?>\n<!DOCTYPE svg PUBLIC \"-//W3C//DTD SVG 1.1//EN\"\n \"http://www.w3.org/Graphics/SVG/1.1/DTD/svg11.dtd\">\n<!-- Generated by graphviz version 2.40.1 (20161225.0304)\n -->\n<!-- Title: Tree Pages: 1 -->\n<svg width=\"698pt\" height=\"373pt\"\n viewBox=\"0.00 0.00 697.50 373.00\" xmlns=\"http://www.w3.org/2000/svg\" xmlns:xlink=\"http://www.w3.org/1999/xlink\">\n<g id=\"graph0\" class=\"graph\" transform=\"scale(1 1) rotate(0) translate(4 369)\">\n<title>Tree</title>\n<polygon fill=\"#ffffff\" stroke=\"transparent\" points=\"-4,4 -4,-369 693.5,-369 693.5,4 -4,4\"/>\n<!-- 0 -->\n<g id=\"node1\" class=\"node\">\n<title>0</title>\n<polygon fill=\"none\" stroke=\"#000000\" points=\"505.5,-365 310.5,-365 310.5,-297 505.5,-297 505.5,-365\"/>\n<text text-anchor=\"middle\" x=\"408\" y=\"-349.8\" font-family=\"Helvetica,sans-Serif\" font-size=\"14.00\" fill=\"#000000\">Packet Length Mean &lt;= 0.6</text>\n<text text-anchor=\"middle\" x=\"408\" y=\"-334.8\" font-family=\"Helvetica,sans-Serif\" font-size=\"14.00\" fill=\"#000000\">gini = 0.418</text>\n<text text-anchor=\"middle\" x=\"408\" y=\"-319.8\" font-family=\"Helvetica,sans-Serif\" font-size=\"14.00\" fill=\"#000000\">samples = 5086</text>\n<text text-anchor=\"middle\" x=\"408\" y=\"-304.8\" font-family=\"Helvetica,sans-Serif\" font-size=\"14.00\" fill=\"#000000\">value = [3571, 1515]</text>\n</g>\n<!-- 1 -->\n<g id=\"node2\" class=\"node\">\n<title>1</title>\n<polygon fill=\"none\" stroke=\"#000000\" points=\"386,-261 220,-261 220,-193 386,-193 386,-261\"/>\n<text text-anchor=\"middle\" x=\"303\" y=\"-245.8\" font-family=\"Helvetica,sans-Serif\" font-size=\"14.00\" fill=\"#000000\">PSH Flag Count &lt;= 0.5</text>\n<text text-anchor=\"middle\" x=\"303\" y=\"-230.8\" font-family=\"Helvetica,sans-Serif\" font-size=\"14.00\" fill=\"#000000\">gini = 0.319</text>\n<text text-anchor=\"middle\" x=\"303\" y=\"-215.8\" font-family=\"Helvetica,sans-Serif\" font-size=\"14.00\" fill=\"#000000\">samples = 1733</text>\n<text text-anchor=\"middle\" x=\"303\" y=\"-200.8\" font-family=\"Helvetica,sans-Serif\" font-size=\"14.00\" fill=\"#000000\">value = [345, 1388]</text>\n</g>\n<!-- 0&#45;&gt;1 -->\n<g id=\"edge1\" class=\"edge\">\n<title>0&#45;&gt;1</title>\n<path fill=\"none\" stroke=\"#000000\" d=\"M373.6191,-296.9465C364.3729,-287.7884 354.2721,-277.7838 344.6757,-268.2788\"/>\n<polygon fill=\"#000000\" stroke=\"#000000\" points=\"347.026,-265.6805 337.4582,-261.13 342.1,-270.6539 347.026,-265.6805\"/>\n<text text-anchor=\"middle\" x=\"337.5778\" y=\"-282.4297\" font-family=\"Helvetica,sans-Serif\" font-size=\"14.00\" fill=\"#000000\">True</text>\n</g>\n<!-- 2 -->\n<g id=\"node7\" class=\"node\">\n<title>2</title>\n<polygon fill=\"none\" stroke=\"#000000\" points=\"622,-261 404,-261 404,-193 622,-193 622,-261\"/>\n<text text-anchor=\"middle\" x=\"513\" y=\"-245.8\" font-family=\"Helvetica,sans-Serif\" font-size=\"14.00\" fill=\"#000000\">Subflow Fwd Bytes &lt;= 31070.0</text>\n<text text-anchor=\"middle\" x=\"513\" y=\"-230.8\" font-family=\"Helvetica,sans-Serif\" font-size=\"14.00\" fill=\"#000000\">gini = 0.073</text>\n<text text-anchor=\"middle\" x=\"513\" y=\"-215.8\" font-family=\"Helvetica,sans-Serif\" font-size=\"14.00\" fill=\"#000000\">samples = 3353</text>\n<text text-anchor=\"middle\" x=\"513\" y=\"-200.8\" font-family=\"Helvetica,sans-Serif\" font-size=\"14.00\" fill=\"#000000\">value = [3226, 127]</text>\n</g>\n<!-- 0&#45;&gt;2 -->\n<g id=\"edge6\" class=\"edge\">\n<title>0&#45;&gt;2</title>\n<path fill=\"none\" stroke=\"#000000\" d=\"M442.3809,-296.9465C451.6271,-287.7884 461.7279,-277.7838 471.3243,-268.2788\"/>\n<polygon fill=\"#000000\" stroke=\"#000000\" points=\"473.9,-270.6539 478.5418,-261.13 468.974,-265.6805 473.9,-270.6539\"/>\n<text text-anchor=\"middle\" x=\"478.4222\" y=\"-282.4297\" font-family=\"Helvetica,sans-Serif\" font-size=\"14.00\" fill=\"#000000\">False</text>\n</g>\n<!-- 3 -->\n<g id=\"node3\" class=\"node\">\n<title>3</title>\n<polygon fill=\"none\" stroke=\"#000000\" points=\"234,-157 36,-157 36,-89 234,-89 234,-157\"/>\n<text text-anchor=\"middle\" x=\"135\" y=\"-141.8\" font-family=\"Helvetica,sans-Serif\" font-size=\"14.00\" fill=\"#000000\">Bwd Packets/s &lt;= 8929.283</text>\n<text text-anchor=\"middle\" x=\"135\" y=\"-126.8\" font-family=\"Helvetica,sans-Serif\" font-size=\"14.00\" fill=\"#000000\">gini = 0.41</text>\n<text text-anchor=\"middle\" x=\"135\" y=\"-111.8\" font-family=\"Helvetica,sans-Serif\" font-size=\"14.00\" fill=\"#000000\">samples = 458</text>\n<text text-anchor=\"middle\" x=\"135\" y=\"-96.8\" font-family=\"Helvetica,sans-Serif\" font-size=\"14.00\" fill=\"#000000\">value = [326, 132]</text>\n</g>\n<!-- 1&#45;&gt;3 -->\n<g id=\"edge2\" class=\"edge\">\n<title>1&#45;&gt;3</title>\n<path fill=\"none\" stroke=\"#000000\" d=\"M247.9905,-192.9465C232.3264,-183.2497 215.1293,-172.6039 198.9804,-162.6069\"/>\n<polygon fill=\"#000000\" stroke=\"#000000\" points=\"200.478,-159.4177 190.1331,-157.13 196.7935,-165.3695 200.478,-159.4177\"/>\n</g>\n<!-- 4 -->\n<g id=\"node6\" class=\"node\">\n<title>4</title>\n<polygon fill=\"none\" stroke=\"#000000\" points=\"384,-149.5 252,-149.5 252,-96.5 384,-96.5 384,-149.5\"/>\n<text text-anchor=\"middle\" x=\"318\" y=\"-134.3\" font-family=\"Helvetica,sans-Serif\" font-size=\"14.00\" fill=\"#000000\">gini = 0.029</text>\n<text text-anchor=\"middle\" x=\"318\" y=\"-119.3\" font-family=\"Helvetica,sans-Serif\" font-size=\"14.00\" fill=\"#000000\">samples = 1275</text>\n<text text-anchor=\"middle\" x=\"318\" y=\"-104.3\" font-family=\"Helvetica,sans-Serif\" font-size=\"14.00\" fill=\"#000000\">value = [19, 1256]</text>\n</g>\n<!-- 1&#45;&gt;4 -->\n<g id=\"edge5\" class=\"edge\">\n<title>1&#45;&gt;4</title>\n<path fill=\"none\" stroke=\"#000000\" d=\"M307.9116,-192.9465C309.4526,-182.2621 311.1598,-170.4254 312.7249,-159.5742\"/>\n<polygon fill=\"#000000\" stroke=\"#000000\" points=\"316.2083,-159.9394 314.1718,-149.5422 309.28,-158.9401 316.2083,-159.9394\"/>\n</g>\n<!-- 7 -->\n<g id=\"node4\" class=\"node\">\n<title>7</title>\n<polygon fill=\"none\" stroke=\"#000000\" points=\"124,-53 0,-53 0,0 124,0 124,-53\"/>\n<text text-anchor=\"middle\" x=\"62\" y=\"-37.8\" font-family=\"Helvetica,sans-Serif\" font-size=\"14.00\" fill=\"#000000\">gini = 0.084</text>\n<text text-anchor=\"middle\" x=\"62\" y=\"-22.8\" font-family=\"Helvetica,sans-Serif\" font-size=\"14.00\" fill=\"#000000\">samples = 228</text>\n<text text-anchor=\"middle\" x=\"62\" y=\"-7.8\" font-family=\"Helvetica,sans-Serif\" font-size=\"14.00\" fill=\"#000000\">value = [218, 10]</text>\n</g>\n<!-- 3&#45;&gt;7 -->\n<g id=\"edge3\" class=\"edge\">\n<title>3&#45;&gt;7</title>\n<path fill=\"none\" stroke=\"#000000\" d=\"M109.2629,-88.9777C102.4744,-80.0039 95.1404,-70.3089 88.3216,-61.295\"/>\n<polygon fill=\"#000000\" stroke=\"#000000\" points=\"91.059,-59.1121 82.2346,-53.2485 85.4763,-63.3352 91.059,-59.1121\"/>\n</g>\n<!-- 8 -->\n<g id=\"node5\" class=\"node\">\n<title>8</title>\n<polygon fill=\"none\" stroke=\"#000000\" points=\"274,-53 142,-53 142,0 274,0 274,-53\"/>\n<text text-anchor=\"middle\" x=\"208\" y=\"-37.8\" font-family=\"Helvetica,sans-Serif\" font-size=\"14.00\" fill=\"#000000\">gini = 0.498</text>\n<text text-anchor=\"middle\" x=\"208\" y=\"-22.8\" font-family=\"Helvetica,sans-Serif\" font-size=\"14.00\" fill=\"#000000\">samples = 230</text>\n<text text-anchor=\"middle\" x=\"208\" y=\"-7.8\" font-family=\"Helvetica,sans-Serif\" font-size=\"14.00\" fill=\"#000000\">value = [108, 122]</text>\n</g>\n<!-- 3&#45;&gt;8 -->\n<g id=\"edge4\" class=\"edge\">\n<title>3&#45;&gt;8</title>\n<path fill=\"none\" stroke=\"#000000\" d=\"M160.7371,-88.9777C167.5256,-80.0039 174.8596,-70.3089 181.6784,-61.295\"/>\n<polygon fill=\"#000000\" stroke=\"#000000\" points=\"184.5237,-63.3352 187.7654,-53.2485 178.941,-59.1121 184.5237,-63.3352\"/>\n</g>\n<!-- 5 -->\n<g id=\"node8\" class=\"node\">\n<title>5</title>\n<polygon fill=\"none\" stroke=\"#000000\" points=\"564,-149.5 432,-149.5 432,-96.5 564,-96.5 564,-149.5\"/>\n<text text-anchor=\"middle\" x=\"498\" y=\"-134.3\" font-family=\"Helvetica,sans-Serif\" font-size=\"14.00\" fill=\"#000000\">gini = 0.04</text>\n<text text-anchor=\"middle\" x=\"498\" y=\"-119.3\" font-family=\"Helvetica,sans-Serif\" font-size=\"14.00\" fill=\"#000000\">samples = 3292</text>\n<text text-anchor=\"middle\" x=\"498\" y=\"-104.3\" font-family=\"Helvetica,sans-Serif\" font-size=\"14.00\" fill=\"#000000\">value = [3225, 67]</text>\n</g>\n<!-- 2&#45;&gt;5 -->\n<g id=\"edge7\" class=\"edge\">\n<title>2&#45;&gt;5</title>\n<path fill=\"none\" stroke=\"#000000\" d=\"M508.0884,-192.9465C506.5474,-182.2621 504.8402,-170.4254 503.2751,-159.5742\"/>\n<polygon fill=\"#000000\" stroke=\"#000000\" points=\"506.72,-158.9401 501.8282,-149.5422 499.7917,-159.9394 506.72,-158.9401\"/>\n</g>\n<!-- 6 -->\n<g id=\"node9\" class=\"node\">\n<title>6</title>\n<polygon fill=\"none\" stroke=\"#000000\" points=\"689.5,-149.5 582.5,-149.5 582.5,-96.5 689.5,-96.5 689.5,-149.5\"/>\n<text text-anchor=\"middle\" x=\"636\" y=\"-134.3\" font-family=\"Helvetica,sans-Serif\" font-size=\"14.00\" fill=\"#000000\">gini = 0.032</text>\n<text text-anchor=\"middle\" x=\"636\" y=\"-119.3\" font-family=\"Helvetica,sans-Serif\" font-size=\"14.00\" fill=\"#000000\">samples = 61</text>\n<text text-anchor=\"middle\" x=\"636\" y=\"-104.3\" font-family=\"Helvetica,sans-Serif\" font-size=\"14.00\" fill=\"#000000\">value = [1, 60]</text>\n</g>\n<!-- 2&#45;&gt;6 -->\n<g id=\"edge8\" class=\"edge\">\n<title>2&#45;&gt;6</title>\n<path fill=\"none\" stroke=\"#000000\" d=\"M553.2748,-192.9465C567.2139,-181.1606 582.8112,-167.9726 596.6732,-156.2519\"/>\n<polygon fill=\"#000000\" stroke=\"#000000\" points=\"599.2324,-158.6715 604.6088,-149.5422 594.7127,-153.3262 599.2324,-158.6715\"/>\n</g>\n</g>\n</svg>\n"
          },
          "metadata": {},
          "execution_count": 40
        }
      ],
      "source": [
        "from graphviz import Source\n",
        "from sklearn import tree\n",
        "Source(tree.export_graphviz(decision_tree, out_file=None, feature_names=X.columns))"
      ]
    },
    {
      "cell_type": "markdown",
      "metadata": {
        "id": "b99AtZuj-NR8"
      },
      "source": [
        "Analyze the confusion matrix. Which classes are confidently classified by the model?"
      ]
    },
    {
      "cell_type": "code",
      "execution_count": null,
      "metadata": {
        "colab": {
          "base_uri": "https://localhost:8080/"
        },
        "id": "-7IrLSAx-PuK",
        "outputId": "b17bb66d-69ed-4e66-c2ac-b88748277eb7"
      },
      "outputs": [
        {
          "output_type": "execute_result",
          "data": {
            "text/plain": [
              "{0: 1516, 1: 665}"
            ]
          },
          "metadata": {},
          "execution_count": 41
        }
      ],
      "source": [
        "unique, counts = np.unique(y_test, return_counts=True)\n",
        "dict(zip(unique, counts))"
      ]
    },
    {
      "cell_type": "code",
      "execution_count": null,
      "metadata": {
        "colab": {
          "base_uri": "https://localhost:8080/"
        },
        "id": "a9iK4zQt-SlP",
        "outputId": "e65bc27f-c022-4e48-9fc6-93d080d817d5"
      },
      "outputs": [
        {
          "output_type": "execute_result",
          "data": {
            "text/plain": [
              "array([[1457,   59],\n",
              "       [  43,  622]])"
            ]
          },
          "metadata": {},
          "execution_count": 42
        }
      ],
      "source": [
        "from sklearn.metrics import confusion_matrix\n",
        "y_pred = decision_tree.predict(X_test)\n",
        "confusion_matrix(y_test, y_pred)"
      ]
    },
    {
      "cell_type": "markdown",
      "metadata": {
        "id": "suPDWnoYaEPD"
      },
      "source": [
        "### Importance evaluation using SelectFromModel (still one decision tree)\n",
        "\n",
        "Source: https://github.com/oreilly-mlsec/book-resources/blob/master/chapter2/select-from-model-nslkdd.ipynb"
      ]
    },
    {
      "cell_type": "code",
      "execution_count": null,
      "metadata": {
        "colab": {
          "base_uri": "https://localhost:8080/"
        },
        "id": "hm7PM7f_aRei",
        "outputId": "138e1c09-e030-48a5-fc50-21a9befe85e4"
      },
      "outputs": [
        {
          "output_type": "execute_result",
          "data": {
            "text/plain": [
              "array([0.        , 0.        , 0.        , 0.        , 0.        ,\n",
              "       0.        , 0.        , 0.        , 0.        , 0.        ,\n",
              "       0.        , 0.        , 0.        , 0.        , 0.        ,\n",
              "       0.        , 0.        , 0.        , 0.        , 0.        ,\n",
              "       0.        , 0.        , 0.        , 0.        , 0.        ,\n",
              "       0.        , 0.        , 0.        , 0.        , 0.        ,\n",
              "       0.        , 0.        , 0.        , 0.        , 0.        ,\n",
              "       0.        , 0.02973892, 0.        , 0.        , 0.72977029,\n",
              "       0.        , 0.        , 0.        , 0.        , 0.        ,\n",
              "       0.17952782, 0.        , 0.        , 0.        , 0.        ,\n",
              "       0.        , 0.        , 0.        , 0.        , 0.        ,\n",
              "       0.        , 0.        , 0.        , 0.        , 0.        ,\n",
              "       0.        , 0.06096296, 0.        , 0.        , 0.        ,\n",
              "       0.        , 0.        , 0.        , 0.        , 0.        ,\n",
              "       0.        , 0.        , 0.        , 0.        ])"
            ]
          },
          "metadata": {},
          "execution_count": 43
        }
      ],
      "source": [
        "from sklearn.feature_selection import SelectFromModel\n",
        "sfm = SelectFromModel(estimator=decision_tree).fit(X_train, y_train)\n",
        "sfm.estimator_.feature_importances_"
      ]
    },
    {
      "cell_type": "code",
      "execution_count": null,
      "metadata": {
        "colab": {
          "base_uri": "https://localhost:8080/"
        },
        "id": "Y0Sx8yJ_aW33",
        "outputId": "5812330e-d51c-4523-8853-3e12f4bd7809"
      },
      "outputs": [
        {
          "output_type": "execute_result",
          "data": {
            "text/plain": [
              "0.013513513513513514"
            ]
          },
          "metadata": {},
          "execution_count": 44
        }
      ],
      "source": [
        "sfm.threshold_"
      ]
    },
    {
      "cell_type": "code",
      "execution_count": null,
      "metadata": {
        "colab": {
          "base_uri": "https://localhost:8080/"
        },
        "id": "4iNlo5jIaaaL",
        "outputId": "f41985d2-302d-4f66-e408-2a7718858272"
      },
      "outputs": [
        {
          "output_type": "stream",
          "name": "stdout",
          "text": [
            "Original num features: 74, selected num features: 4\n"
          ]
        }
      ],
      "source": [
        "X_train_new = sfm.transform(X_train)\n",
        "print(\"Original num features: {}, selected num features: {}\"\n",
        "      .format(X_train.shape[1], X_train_new.shape[1]))"
      ]
    },
    {
      "cell_type": "code",
      "execution_count": null,
      "metadata": {
        "colab": {
          "base_uri": "https://localhost:8080/"
        },
        "id": "aBQxtLAwaegL",
        "outputId": "97d3ff30-95bc-42ab-bc2d-d1b27985e081"
      },
      "outputs": [
        {
          "output_type": "stream",
          "name": "stdout",
          "text": [
            "0.\tPacket Length Mean - 0.7297702935925698\n",
            "1.\tPSH Flag Count - 0.17952782331306366\n",
            "2.\tSubflow Fwd Bytes - 0.060962963966123704\n",
            "3.\tBwd Packets/s - 0.029738919128242735\n",
            "4.\tFwd IAT Mean - 0.0\n",
            "5.\tFwd IAT Std - 0.0\n",
            "6.\tFwd IAT Max - 0.0\n",
            "7.\tFwd IAT Min - 0.0\n",
            "8.\tBwd IAT Total - 0.0\n",
            "9.\tBwd IAT Mean - 0.0\n"
          ]
        }
      ],
      "source": [
        "indices = np.argsort(decision_tree.feature_importances_)[::-1]\n",
        "for idx, i in enumerate(indices[:10]):\n",
        "    print(\"{}.\\t{} - {}\".format(idx, X_train.columns[i], decision_tree.feature_importances_[i]))"
      ]
    },
    {
      "cell_type": "markdown",
      "metadata": {
        "id": "duGKUsAzal52"
      },
      "source": [
        "### Evaluation of importance using RandomForestClassifier.feature_importances_ (move from one tree to a random forest, classification quality increases)"
      ]
    },
    {
      "cell_type": "code",
      "execution_count": null,
      "metadata": {
        "colab": {
          "base_uri": "https://localhost:8080/"
        },
        "id": "xo4E_wFeaqNd",
        "outputId": "e5b08bf3-92be-4a40-8beb-93e044356ce8"
      },
      "outputs": [
        {
          "output_type": "stream",
          "name": "stdout",
          "text": [
            "R^2 Training Score: 0.99 \n",
            "R^2 Validation Score: 0.98 \n",
            "Out-of-bag Score: 0.98\n"
          ]
        }
      ],
      "source": [
        "from sklearn.ensemble import RandomForestClassifier\n",
        "\n",
        "rf = RandomForestClassifier(n_estimators=250, random_state=42, oob_score=True)\n",
        "rf.fit(X_train, y_train)\n",
        "# Score = mean accuracy on the given test data and labels\n",
        "print('R^2 Training Score: {:.2f} \\nR^2 Validation Score: {:.2f} \\nOut-of-bag Score: {:.2f}'\n",
        "      .format(rf.score(X_train, y_train), rf.score(X_test, y_test), rf.oob_score_))"
      ]
    },
    {
      "cell_type": "code",
      "execution_count": null,
      "metadata": {
        "colab": {
          "base_uri": "https://localhost:8080/"
        },
        "id": "byV6krktawE_",
        "outputId": "c0aa4aa9-69bb-4a00-fc61-f55fb506c70f"
      },
      "outputs": [
        {
          "output_type": "stream",
          "name": "stdout",
          "text": [
            "1.\t#51\t0.078\tAverage Packet Size\n",
            "2.\t#13\t0.072\tFlow Bytes/s\n",
            "3.\t#38\t0.063\tMax Packet Length\n",
            "4.\t#39\t0.062\tPacket Length Mean\n",
            "5.\t#7\t0.054\tFwd Packet Length Mean\n",
            "6.\t#23\t0.053\tFwd IAT Min\n",
            "7.\t#61\t0.051\tSubflow Fwd Bytes\n",
            "8.\t#52\t0.050\tAvg Fwd Segment Size\n",
            "9.\t#3\t0.049\tTotal Length of Fwd Packets\n",
            "10.\t#15\t0.035\tFlow IAT Mean\n",
            "11.\t#5\t0.033\tFwd Packet Length Max\n",
            "12.\t#21\t0.030\tFwd IAT Std\n",
            "13.\t#33\t0.028\tFwd Header Length\n",
            "14.\t#0\t0.026\tFlow Duration\n",
            "15.\t#14\t0.025\tFlow Packets/s\n",
            "16.\t#16\t0.023\tFlow IAT Std\n",
            "17.\t#35\t0.021\tFwd Packets/s\n",
            "18.\t#19\t0.018\tFwd IAT Total\n",
            "19.\t#22\t0.017\tFwd IAT Max\n",
            "20.\t#20\t0.016\tFwd IAT Mean\n"
          ]
        }
      ],
      "source": [
        "features = X.columns\n",
        "importances = rf.feature_importances_\n",
        "indices = np.argsort(importances)[::-1]\n",
        "webattack_features = []\n",
        "\n",
        "for index, i in enumerate(indices[:20]):\n",
        "    webattack_features.append(features[i])\n",
        "    print('{}.\\t#{}\\t{:.3f}\\t{}'.format(index + 1, i, importances[i], features[i]))"
      ]
    },
    {
      "cell_type": "markdown",
      "metadata": {
        "id": "3RXQUuqHa11b"
      },
      "source": [
        "For comparison, the results of the study [Sharafaldin2018] (compare relatively, without taking into account the multiplier):\n",
        " \n",
        "* Init Win F.Bytes 0.0200\n",
        "* Subflow F.Bytes 0.0145\n",
        "* Init Win B.Bytes 0.0129\n",
        "* Total Len F.Packets 0.0096\n",
        "\n",
        "And incorrect results [Kostas2018] (error was found in assessing the importance of features, line: *impor_bars = pd.DataFrame({'Features':refclasscol[0:20],'importance':importances[0:20]})*, the importances[0:20] sample does not take into account that the values are not sorted in descending order):\n",
        " \n",
        "* Flow Bytes/s 0.313402\n",
        "* Total Length of Fwd Packets 0.304917\n",
        "* Flow Duration 0.000485\n",
        "* Fwd Packet Length Max 0.00013"
      ]
    },
    {
      "cell_type": "code",
      "execution_count": null,
      "metadata": {
        "colab": {
          "base_uri": "https://localhost:8080/",
          "height": 404
        },
        "id": "TPxzWeP4bHa5",
        "outputId": "30961a69-ad9d-4bb2-fb71-b16d93254352"
      },
      "outputs": [
        {
          "output_type": "display_data",
          "data": {
            "text/plain": [
              "<Figure size 720x432 with 1 Axes>"
            ],
            "image/png": "[encoded data removed]"
          },
          "metadata": {
            "needs_background": "light"
          }
        }
      ],
      "source": [
        "indices = np.argsort(importances)[-20:]\n",
        "plt.rcParams['figure.figsize'] = (10, 6)\n",
        "plt.title('Feature Importances')\n",
        "plt.barh(range(len(indices)), importances[indices], color='#cccccc', align='center')\n",
        "plt.yticks(range(len(indices)), [features[i] for i in indices])\n",
        "plt.xlabel('Relative Importance')\n",
        "plt.grid()\n",
        "plt.savefig('feature_importances.png', dpi=300, bbox_inches='tight')\n",
        "plt.show()"
      ]
    },
    {
      "cell_type": "code",
      "execution_count": null,
      "metadata": {
        "colab": {
          "base_uri": "https://localhost:8080/"
        },
        "id": "QaYCrMC4cenU",
        "outputId": "771a885b-5c2b-4103-e0e2-41f627b08542"
      },
      "outputs": [
        {
          "output_type": "execute_result",
          "data": {
            "text/plain": [
              "array([[1483,   33],\n",
              "       [  20,  645]])"
            ]
          },
          "metadata": {},
          "execution_count": 50
        }
      ],
      "source": [
        "y_pred = rf.predict(X_test)\n",
        "confusion_matrix(y_test, y_pred)"
      ]
    },
    {
      "cell_type": "markdown",
      "metadata": {
        "id": "ktl5y47rcsiy"
      },
      "source": [
        "Next, for experiments, we keep the first max_features of features with maximum importance."
      ]
    },
    {
      "cell_type": "code",
      "execution_count": null,
      "metadata": {
        "colab": {
          "base_uri": "https://localhost:8080/"
        },
        "id": "Xriaa8XicuoB",
        "outputId": "02301944-6ed9-433b-9847-8d0956d5ee1a"
      },
      "outputs": [
        {
          "output_type": "execute_result",
          "data": {
            "text/plain": [
              "['Average Packet Size',\n",
              " 'Flow Bytes/s',\n",
              " 'Max Packet Length',\n",
              " 'Packet Length Mean',\n",
              " 'Fwd Packet Length Mean',\n",
              " 'Fwd IAT Min',\n",
              " 'Subflow Fwd Bytes',\n",
              " 'Avg Fwd Segment Size',\n",
              " 'Total Length of Fwd Packets',\n",
              " 'Flow IAT Mean',\n",
              " 'Fwd Packet Length Max',\n",
              " 'Fwd IAT Std',\n",
              " 'Fwd Header Length',\n",
              " 'Flow Duration',\n",
              " 'Flow Packets/s',\n",
              " 'Flow IAT Std',\n",
              " 'Fwd Packets/s',\n",
              " 'Fwd IAT Total',\n",
              " 'Fwd IAT Max',\n",
              " 'Fwd IAT Mean']"
            ]
          },
          "metadata": {},
          "execution_count": 51
        }
      ],
      "source": [
        "max_features = 20\n",
        "webattack_features = webattack_features[:max_features]\n",
        "webattack_features"
      ]
    },
    {
      "cell_type": "markdown",
      "metadata": {
        "id": "eLikdx9Legm0"
      },
      "source": [
        "## Analysis of selected features"
      ]
    },
    {
      "cell_type": "code",
      "execution_count": null,
      "metadata": {
        "colab": {
          "base_uri": "https://localhost:8080/",
          "height": 729
        },
        "id": "l4AlTAUme5aJ",
        "outputId": "c9e8db60-5a53-4005-fc75-1805037dc51b"
      },
      "outputs": [
        {
          "output_type": "display_data",
          "data": {
            "text/plain": [
              "<Figure size 1440x864 with 20 Axes>"
            ],
            "image/png": "[encoded data removed]"
          },
          "metadata": {
            "needs_background": "light"
          }
        }
      ],
      "source": [
        "df[webattack_features].hist(figsize=(20,12), bins=10);\n",
        "plt.savefig('features_hist.png', dpi=300)"
      ]
    },
    {
      "cell_type": "markdown",
      "metadata": {
        "id": "qURMpkLBf1ZH"
      },
      "source": [
        "Install Facets Overview\n",
        "\n",
        "https://pair-code.github.io/facets/"
      ]
    },
    {
      "cell_type": "code",
      "execution_count": null,
      "metadata": {
        "colab": {
          "base_uri": "https://localhost:8080/"
        },
        "id": "QH4RxYR14jjz",
        "outputId": "93cf7f3b-d39c-4f8d-9a3c-9e2c353ce81b"
      },
      "outputs": [
        {
          "output_type": "stream",
          "name": "stdout",
          "text": [
            "Looking in indexes: https://pypi.org/simple, https://us-python.pkg.dev/colab-wheels/public/simple/\n",
            "Collecting facets-overview\n",
            "  Downloading facets_overview-1.0.0-py2.py3-none-any.whl (24 kB)\n",
            "Requirement already satisfied: numpy>=1.16.0 in /usr/local/lib/python3.7/dist-packages (from facets-overview) (1.21.6)\n",
            "Requirement already satisfied: protobuf>=3.7.0 in /usr/local/lib/python3.7/dist-packages (from facets-overview) (3.17.3)\n",
            "Requirement already satisfied: pandas>=0.22.0 in /usr/local/lib/python3.7/dist-packages (from facets-overview) (1.3.5)\n",
            "Requirement already satisfied: python-dateutil>=2.7.3 in /usr/local/lib/python3.7/dist-packages (from pandas>=0.22.0->facets-overview) (2.8.2)\n",
            "Requirement already satisfied: pytz>=2017.3 in /usr/local/lib/python3.7/dist-packages (from pandas>=0.22.0->facets-overview) (2022.1)\n",
            "Requirement already satisfied: six>=1.9 in /usr/local/lib/python3.7/dist-packages (from protobuf>=3.7.0->facets-overview) (1.15.0)\n",
            "Installing collected packages: facets-overview\n",
            "Successfully installed facets-overview-1.0.0\n"
          ]
        }
      ],
      "source": [
        "!pip install facets-overview"
      ]
    },
    {
      "cell_type": "markdown",
      "metadata": {
        "id": "_A9f2J2tf9eA"
      },
      "source": [
        "Create the feature stats for the datasets and stringify it."
      ]
    },
    {
      "cell_type": "code",
      "execution_count": null,
      "metadata": {
        "id": "0juU1aJQ44sk"
      },
      "outputs": [],
      "source": [
        "import base64\n",
        "from facets_overview.generic_feature_statistics_generator import GenericFeatureStatisticsGenerator\n",
        "\n",
        "gfsg = GenericFeatureStatisticsGenerator()\n",
        "proto = gfsg.ProtoFromDataFrames([{'name': 'train + test', 'table': df[webattack_features]}])\n",
        "protostr = base64.b64encode(proto.SerializeToString()).decode(\"utf-8\")"
      ]
    },
    {
      "cell_type": "markdown",
      "metadata": {
        "id": "9Wqs7qELgBkM"
      },
      "source": [
        "Display the facets overview visualization for this data."
      ]
    },
    {
      "cell_type": "code",
      "execution_count": null,
      "metadata": {
        "colab": {
          "base_uri": "https://localhost:8080/",
          "height": 1000
        },
        "id": "mYvQDTKH5YRr",
        "outputId": "7e332333-2466-4a83-925a-cc1ffdf4bdcd"
      },
      "outputs": [
        {
          "output_type": "display_data",
          "data": {
            "text/plain": [
              "<IPython.core.display.HTML object>"
            ],
            "text/html": [
              "\n",
              "        <script src=\"https://cdnjs.cloudflare.com/ajax/libs/webcomponentsjs/1.3.3/webcomponents-lite.js\"></script>\n",
              "        <link rel=\"import\" href=\"https://raw.githubusercontent.com/PAIR-code/facets/1.0.0/facets-dist/facets-jupyter.html\" >\n",
              "        <facets-overview id=\"elem\"></facets-overview>\n",
              "        <script>\n",
              "          document.querySelector(\"#elem\").protoInput = \"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\";\n",
              "        </script>"
            ]
          },
          "metadata": {}
        }
      ],
      "source": [
        "from IPython.core.display import display, HTML\n",
        "\n",
        "HTML_TEMPLATE = \"\"\"\n",
        "        <script src=\"https://cdnjs.cloudflare.com/ajax/libs/webcomponentsjs/1.3.3/webcomponents-lite.js\"></script>\n",
        "        <link rel=\"import\" href=\"https://raw.githubusercontent.com/PAIR-code/facets/1.0.0/facets-dist/facets-jupyter.html\" >\n",
        "        <facets-overview id=\"elem\"></facets-overview>\n",
        "        <script>\n",
        "          document.querySelector(\"#elem\").protoInput = \"{protostr}\";\n",
        "        </script>\"\"\"\n",
        "html = HTML_TEMPLATE.format(protostr=protostr)\n",
        "display(HTML(html))"
      ]
    },
    {
      "cell_type": "code",
      "execution_count": null,
      "metadata": {
        "colab": {
          "base_uri": "https://localhost:8080/",
          "height": 391
        },
        "id": "IIqD-DjrgbIr",
        "outputId": "e7946cde-cade-490b-8d49-a111e7352d46"
      },
      "outputs": [
        {
          "output_type": "display_data",
          "data": {
            "text/plain": [
              "<Figure size 1152x360 with 2 Axes>"
            ],
            "image/png": "[encoded data removed]"
          },
          "metadata": {
            "needs_background": "light"
          }
        }
      ],
      "source": [
        "import seaborn as sns\n",
        "corr_matrix = df[webattack_features].corr()\n",
        "plt.rcParams['figure.figsize'] = (16, 5)\n",
        "g = sns.heatmap(corr_matrix, annot=True, fmt='.1g', cmap='Greys')\n",
        "g.set_xticklabels(g.get_xticklabels(), verticalalignment='top', horizontalalignment='right', rotation=30);\n",
        "plt.savefig('corr_heatmap.png', dpi=300, bbox_inches='tight')"
      ]
    },
    {
      "cell_type": "markdown",
      "metadata": {
        "id": "r2J6Pz0xglza"
      },
      "source": [
        "Remove correlated features."
      ]
    },
    {
      "cell_type": "code",
      "execution_count": null,
      "metadata": {
        "colab": {
          "base_uri": "https://localhost:8080/"
        },
        "id": "Nml7xnnqgoMz",
        "outputId": "dcb31f0a-2bb1-4b86-e49c-ed3dc9e479b3"
      },
      "outputs": [
        {
          "output_type": "execute_result",
          "data": {
            "text/plain": [
              "['Average Packet Size',\n",
              " 'Flow Bytes/s',\n",
              " 'Max Packet Length',\n",
              " 'Fwd Packet Length Mean',\n",
              " 'Fwd IAT Min',\n",
              " 'Total Length of Fwd Packets',\n",
              " 'Flow IAT Mean',\n",
              " 'Fwd Packet Length Max',\n",
              " 'Fwd IAT Std',\n",
              " 'Fwd Header Length']"
            ]
          },
          "metadata": {},
          "execution_count": 57
        }
      ],
      "source": [
        "to_be_removed = {'Packet Length Mean', 'Avg Fwd Segment Size', 'Subflow Fwd Bytes', \n",
        "                 'Fwd Packets/s', 'Fwd IAT Total', 'Fwd IAT Max'}\n",
        "webattack_features = [item for item in webattack_features if item not in to_be_removed]\n",
        "webattack_features = webattack_features[:10]\n",
        "webattack_features"
      ]
    },
    {
      "cell_type": "code",
      "execution_count": null,
      "metadata": {
        "colab": {
          "base_uri": "https://localhost:8080/",
          "height": 451
        },
        "id": "vHbm-bkbgDw8",
        "outputId": "e867f4af-9576-461e-f92b-f45bee620ddc"
      },
      "outputs": [
        {
          "output_type": "display_data",
          "data": {
            "text/plain": [
              "<Figure size 432x360 with 2 Axes>"
            ],
            "image/png": "[encoded data removed]"
          },
          "metadata": {
            "needs_background": "light"
          }
        }
      ],
      "source": [
        "corr_matrix = df[webattack_features].corr()\n",
        "plt.rcParams['figure.figsize'] = (6, 5)\n",
        "sns.heatmap(corr_matrix, annot=True, fmt='.1g', cmap='Greys');"
      ]
    },
    {
      "cell_type": "markdown",
      "metadata": {
        "id": "eh-k8KdMhJ_Q"
      },
      "source": [
        "## Hyperparameter selection"
      ]
    },
    {
      "cell_type": "markdown",
      "metadata": {
        "id": "-jMiAnOthSIn"
      },
      "source": [
        "Reopen the dataset."
      ]
    },
    {
      "cell_type": "code",
      "execution_count": null,
      "metadata": {
        "colab": {
          "base_uri": "https://localhost:8080/"
        },
        "id": "vrwIysyAhKxI",
        "outputId": "3b0c10b0-4ecb-44cb-d298-69b032b0f7aa"
      },
      "outputs": [
        {
          "output_type": "stream",
          "name": "stdout",
          "text": [
            "(7267, 10) (7267,)\n"
          ]
        }
      ],
      "source": [
        "from sklearn.model_selection import GridSearchCV\n",
        "\n",
        "df = pd.read_csv('web_attacks_balanced.csv')\n",
        "df['Label'] = df['Label'].apply(lambda x: 0 if x == 'BENIGN' else 1)\n",
        "y = df['Label'].values\n",
        "X = df[webattack_features]\n",
        "print(X.shape, y.shape)"
      ]
    },
    {
      "cell_type": "markdown",
      "metadata": {
        "id": "subB43I7LOPE"
      },
      "source": [
        "If necessary, we will work with our own dataset."
      ]
    },
    {
      "cell_type": "code",
      "execution_count": null,
      "metadata": {
        "id": "pgCuIG6rLOPF"
      },
      "outputs": [],
      "source": [
        "#df = pd.read_csv('mix_labelled.csv')\n",
        "#y = df['Label'].values\n",
        "#X = df[webattack_features]\n",
        "#print(X.shape, y.shape)"
      ]
    },
    {
      "cell_type": "markdown",
      "metadata": {
        "id": "PFYYEqnihZnZ"
      },
      "source": [
        "We get the list of RandomForestClassifier parameters."
      ]
    },
    {
      "cell_type": "code",
      "execution_count": null,
      "metadata": {
        "colab": {
          "base_uri": "https://localhost:8080/"
        },
        "id": "wc_IVcRPhU82",
        "outputId": "ccc4e740-96a2-4ef3-fc30-3a9ed3f4e0e4"
      },
      "outputs": [
        {
          "output_type": "execute_result",
          "data": {
            "text/plain": [
              "dict_keys(['bootstrap', 'ccp_alpha', 'class_weight', 'criterion', 'max_depth', 'max_features', 'max_leaf_nodes', 'max_samples', 'min_impurity_decrease', 'min_samples_leaf', 'min_samples_split', 'min_weight_fraction_leaf', 'n_estimators', 'n_jobs', 'oob_score', 'random_state', 'verbose', 'warm_start'])"
            ]
          },
          "metadata": {},
          "execution_count": 61
        }
      ],
      "source": [
        "rfc = RandomForestClassifier(random_state=1)\n",
        "rfc.get_params().keys()"
      ]
    },
    {
      "cell_type": "markdown",
      "metadata": {
        "id": "LQ8VThpnheWD"
      },
      "source": [
        "For search of quasi-optimal value of one parameter we fix the others."
      ]
    },
    {
      "cell_type": "code",
      "execution_count": null,
      "metadata": {
        "colab": {
          "base_uri": "https://localhost:8080/"
        },
        "id": "4JoxI-axhdD7",
        "outputId": "19231acf-ee6c-4e5c-b208-76be74ee239d"
      },
      "outputs": [
        {
          "output_type": "stream",
          "name": "stdout",
          "text": [
            "CPU times: user 16.5 s, sys: 46.4 ms, total: 16.6 s\n",
            "Wall time: 23.4 s\n"
          ]
        }
      ],
      "source": [
        "parameters = {'n_estimators': [10],\n",
        "              'min_samples_leaf': [3],\n",
        "              'max_features': [3], \n",
        "              'max_depth': [1, 2, 3, 4, 5, 6, 7, 8, 9, 10, 11, 13, 15, 17, 20, 30, 50]}\n",
        "scoring = {'f1', 'accuracy'}\n",
        "gcv = GridSearchCV(rfc, parameters, scoring=scoring, refit='f1', cv=10, return_train_score=True)\n",
        "get_ipython().run_line_magic('time', 'gcv.fit(X, y)')\n",
        "results = gcv.cv_results_"
      ]
    },
    {
      "cell_type": "code",
      "execution_count": null,
      "metadata": {
        "colab": {
          "base_uri": "https://localhost:8080/",
          "height": 647
        },
        "id": "OOS-7FXchh31",
        "outputId": "e66d8629-8cbb-4496-b273-e2bbf6851e7a"
      },
      "outputs": [
        {
          "output_type": "execute_result",
          "data": {
            "text/plain": [
              "   mean_fit_time  std_fit_time  mean_score_time  std_score_time  \\\n",
              "0       0.061411      0.016599         0.011081        0.006249   \n",
              "1       0.072459      0.009144         0.010797        0.006839   \n",
              "2       0.078897      0.011730         0.011667        0.006470   \n",
              "3       0.126645      0.040862         0.016862        0.011142   \n",
              "4       0.160093      0.042129         0.016363        0.011647   \n",
              "\n",
              "  param_max_depth param_max_features param_min_samples_leaf  \\\n",
              "0               1                  3                      3   \n",
              "1               2                  3                      3   \n",
              "2               3                  3                      3   \n",
              "3               4                  3                      3   \n",
              "4               5                  3                      3   \n",
              "\n",
              "  param_n_estimators                                             params  \\\n",
              "0                 10  {'max_depth': 1, 'max_features': 3, 'min_sampl...   \n",
              "1                 10  {'max_depth': 2, 'max_features': 3, 'min_sampl...   \n",
              "2                 10  {'max_depth': 3, 'max_features': 3, 'min_sampl...   \n",
              "3                 10  {'max_depth': 4, 'max_features': 3, 'min_sampl...   \n",
              "4                 10  {'max_depth': 5, 'max_features': 3, 'min_sampl...   \n",
              "\n",
              "   split0_test_f1  ...  split2_train_accuracy  split3_train_accuracy  \\\n",
              "0        0.877030  ...               0.910703               0.909939   \n",
              "1        0.896725  ...               0.956422               0.956116   \n",
              "2        0.896203  ...               0.958716               0.958563   \n",
              "3        0.907268  ...               0.966514               0.970795   \n",
              "4        0.923457  ...               0.973547               0.971560   \n",
              "\n",
              "   split4_train_accuracy  split5_train_accuracy  split6_train_accuracy  \\\n",
              "0               0.909021               0.910856               0.906422   \n",
              "1               0.955963               0.956881               0.956881   \n",
              "2               0.958410               0.959786               0.958563   \n",
              "3               0.966361               0.966667               0.967125   \n",
              "4               0.972018               0.972477               0.972324   \n",
              "\n",
              "   split7_train_accuracy  split8_train_accuracy  split9_train_accuracy  \\\n",
              "0               0.908271               0.905060               0.909647   \n",
              "1               0.953371               0.952607               0.957805   \n",
              "2               0.954900               0.954594               0.959639   \n",
              "3               0.961168               0.963308               0.970800   \n",
              "4               0.974010               0.968965               0.973857   \n",
              "\n",
              "   mean_train_accuracy  std_train_accuracy  \n",
              "0             0.908766            0.001975  \n",
              "1             0.955950            0.001588  \n",
              "2             0.958121            0.001775  \n",
              "3             0.967142            0.003023  \n",
              "4             0.972815            0.001757  \n",
              "\n",
              "[5 rows x 59 columns]"
            ],
            "text/html": [
              "\n",
              "  <div id=\"df-22e023fb-7385-417c-8a82-1b43454d5025\">\n",
              "    <div class=\"colab-df-container\">\n",
              "      <div>\n",
              "<style scoped>\n",
              "    .dataframe tbody tr th:only-of-type {\n",
              "        vertical-align: middle;\n",
              "    }\n",
              "\n",
              "    .dataframe tbody tr th {\n",
              "        vertical-align: top;\n",
              "    }\n",
              "\n",
              "    .dataframe thead th {\n",
              "        text-align: right;\n",
              "    }\n",
              "</style>\n",
              "<table border=\"1\" class=\"dataframe\">\n",
              "  <thead>\n",
              "    <tr style=\"text-align: right;\">\n",
              "      <th></th>\n",
              "      <th>mean_fit_time</th>\n",
              "      <th>std_fit_time</th>\n",
              "      <th>mean_score_time</th>\n",
              "      <th>std_score_time</th>\n",
              "      <th>param_max_depth</th>\n",
              "      <th>param_max_features</th>\n",
              "      <th>param_min_samples_leaf</th>\n",
              "      <th>param_n_estimators</th>\n",
              "      <th>params</th>\n",
              "      <th>split0_test_f1</th>\n",
              "      <th>...</th>\n",
              "      <th>split2_train_accuracy</th>\n",
              "      <th>split3_train_accuracy</th>\n",
              "      <th>split4_train_accuracy</th>\n",
              "      <th>split5_train_accuracy</th>\n",
              "      <th>split6_train_accuracy</th>\n",
              "      <th>split7_train_accuracy</th>\n",
              "      <th>split8_train_accuracy</th>\n",
              "      <th>split9_train_accuracy</th>\n",
              "      <th>mean_train_accuracy</th>\n",
              "      <th>std_train_accuracy</th>\n",
              "    </tr>\n",
              "  </thead>\n",
              "  <tbody>\n",
              "    <tr>\n",
              "      <th>0</th>\n",
              "      <td>0.061411</td>\n",
              "      <td>0.016599</td>\n",
              "      <td>0.011081</td>\n",
              "      <td>0.006249</td>\n",
              "      <td>1</td>\n",
              "      <td>3</td>\n",
              "      <td>3</td>\n",
              "      <td>10</td>\n",
              "      <td>{'max_depth': 1, 'max_features': 3, 'min_sampl...</td>\n",
              "      <td>0.877030</td>\n",
              "      <td>...</td>\n",
              "      <td>0.910703</td>\n",
              "      <td>0.909939</td>\n",
              "      <td>0.909021</td>\n",
              "      <td>0.910856</td>\n",
              "      <td>0.906422</td>\n",
              "      <td>0.908271</td>\n",
              "      <td>0.905060</td>\n",
              "      <td>0.909647</td>\n",
              "      <td>0.908766</td>\n",
              "      <td>0.001975</td>\n",
              "    </tr>\n",
              "    <tr>\n",
              "      <th>1</th>\n",
              "      <td>0.072459</td>\n",
              "      <td>0.009144</td>\n",
              "      <td>0.010797</td>\n",
              "      <td>0.006839</td>\n",
              "      <td>2</td>\n",
              "      <td>3</td>\n",
              "      <td>3</td>\n",
              "      <td>10</td>\n",
              "      <td>{'max_depth': 2, 'max_features': 3, 'min_sampl...</td>\n",
              "      <td>0.896725</td>\n",
              "      <td>...</td>\n",
              "      <td>0.956422</td>\n",
              "      <td>0.956116</td>\n",
              "      <td>0.955963</td>\n",
              "      <td>0.956881</td>\n",
              "      <td>0.956881</td>\n",
              "      <td>0.953371</td>\n",
              "      <td>0.952607</td>\n",
              "      <td>0.957805</td>\n",
              "      <td>0.955950</td>\n",
              "      <td>0.001588</td>\n",
              "    </tr>\n",
              "    <tr>\n",
              "      <th>2</th>\n",
              "      <td>0.078897</td>\n",
              "      <td>0.011730</td>\n",
              "      <td>0.011667</td>\n",
              "      <td>0.006470</td>\n",
              "      <td>3</td>\n",
              "      <td>3</td>\n",
              "      <td>3</td>\n",
              "      <td>10</td>\n",
              "      <td>{'max_depth': 3, 'max_features': 3, 'min_sampl...</td>\n",
              "      <td>0.896203</td>\n",
              "      <td>...</td>\n",
              "      <td>0.958716</td>\n",
              "      <td>0.958563</td>\n",
              "      <td>0.958410</td>\n",
              "      <td>0.959786</td>\n",
              "      <td>0.958563</td>\n",
              "      <td>0.954900</td>\n",
              "      <td>0.954594</td>\n",
              "      <td>0.959639</td>\n",
              "      <td>0.958121</td>\n",
              "      <td>0.001775</td>\n",
              "    </tr>\n",
              "    <tr>\n",
              "      <th>3</th>\n",
              "      <td>0.126645</td>\n",
              "      <td>0.040862</td>\n",
              "      <td>0.016862</td>\n",
              "      <td>0.011142</td>\n",
              "      <td>4</td>\n",
              "      <td>3</td>\n",
              "      <td>3</td>\n",
              "      <td>10</td>\n",
              "      <td>{'max_depth': 4, 'max_features': 3, 'min_sampl...</td>\n",
              "      <td>0.907268</td>\n",
              "      <td>...</td>\n",
              "      <td>0.966514</td>\n",
              "      <td>0.970795</td>\n",
              "      <td>0.966361</td>\n",
              "      <td>0.966667</td>\n",
              "      <td>0.967125</td>\n",
              "      <td>0.961168</td>\n",
              "      <td>0.963308</td>\n",
              "      <td>0.970800</td>\n",
              "      <td>0.967142</td>\n",
              "      <td>0.003023</td>\n",
              "    </tr>\n",
              "    <tr>\n",
              "      <th>4</th>\n",
              "      <td>0.160093</td>\n",
              "      <td>0.042129</td>\n",
              "      <td>0.016363</td>\n",
              "      <td>0.011647</td>\n",
              "      <td>5</td>\n",
              "      <td>3</td>\n",
              "      <td>3</td>\n",
              "      <td>10</td>\n",
              "      <td>{'max_depth': 5, 'max_features': 3, 'min_sampl...</td>\n",
              "      <td>0.923457</td>\n",
              "      <td>...</td>\n",
              "      <td>0.973547</td>\n",
              "      <td>0.971560</td>\n",
              "      <td>0.972018</td>\n",
              "      <td>0.972477</td>\n",
              "      <td>0.972324</td>\n",
              "      <td>0.974010</td>\n",
              "      <td>0.968965</td>\n",
              "      <td>0.973857</td>\n",
              "      <td>0.972815</td>\n",
              "      <td>0.001757</td>\n",
              "    </tr>\n",
              "  </tbody>\n",
              "</table>\n",
              "<p>5 rows × 59 columns</p>\n",
              "</div>\n",
              "      <button class=\"colab-df-convert\" onclick=\"convertToInteractive('df-22e023fb-7385-417c-8a82-1b43454d5025')\"\n",
              "              title=\"Convert this dataframe to an interactive table.\"\n",
              "              style=\"display:none;\">\n",
              "        \n",
              "  <svg xmlns=\"http://www.w3.org/2000/svg\" height=\"24px\"viewBox=\"0 0 24 24\"\n",
              "       width=\"24px\">\n",
              "    <path d=\"M0 0h24v24H0V0z\" fill=\"none\"/>\n",
              "    <path d=\"M18.56 5.44l.94 2.06.94-2.06 2.06-.94-2.06-.94-.94-2.06-.94 2.06-2.06.94zm-11 1L8.5 8.5l.94-2.06 2.06-.94-2.06-.94L8.5 2.5l-.94 2.06-2.06.94zm10 10l.94 2.06.94-2.06 2.06-.94-2.06-.94-.94-2.06-.94 2.06-2.06.94z\"/><path d=\"M17.41 7.96l-1.37-1.37c-.4-.4-.92-.59-1.43-.59-.52 0-1.04.2-1.43.59L10.3 9.45l-7.72 7.72c-.78.78-.78 2.05 0 2.83L4 21.41c.39.39.9.59 1.41.59.51 0 1.02-.2 1.41-.59l7.78-7.78 2.81-2.81c.8-.78.8-2.07 0-2.86zM5.41 20L4 18.59l7.72-7.72 1.47 1.35L5.41 20z\"/>\n",
              "  </svg>\n",
              "      </button>\n",
              "      \n",
              "  <style>\n",
              "    .colab-df-container {\n",
              "      display:flex;\n",
              "      flex-wrap:wrap;\n",
              "      gap: 12px;\n",
              "    }\n",
              "\n",
              "    .colab-df-convert {\n",
              "      background-color: #E8F0FE;\n",
              "      border: none;\n",
              "      border-radius: 50%;\n",
              "      cursor: pointer;\n",
              "      display: none;\n",
              "      fill: #1967D2;\n",
              "      height: 32px;\n",
              "      padding: 0 0 0 0;\n",
              "      width: 32px;\n",
              "    }\n",
              "\n",
              "    .colab-df-convert:hover {\n",
              "      background-color: #E2EBFA;\n",
              "      box-shadow: 0px 1px 2px rgba(60, 64, 67, 0.3), 0px 1px 3px 1px rgba(60, 64, 67, 0.15);\n",
              "      fill: #174EA6;\n",
              "    }\n",
              "\n",
              "    [theme=dark] .colab-df-convert {\n",
              "      background-color: #3B4455;\n",
              "      fill: #D2E3FC;\n",
              "    }\n",
              "\n",
              "    [theme=dark] .colab-df-convert:hover {\n",
              "      background-color: #434B5C;\n",
              "      box-shadow: 0px 1px 3px 1px rgba(0, 0, 0, 0.15);\n",
              "      filter: drop-shadow(0px 1px 2px rgba(0, 0, 0, 0.3));\n",
              "      fill: #FFFFFF;\n",
              "    }\n",
              "  </style>\n",
              "\n",
              "      <script>\n",
              "        const buttonEl =\n",
              "          document.querySelector('#df-22e023fb-7385-417c-8a82-1b43454d5025 button.colab-df-convert');\n",
              "        buttonEl.style.display =\n",
              "          google.colab.kernel.accessAllowed ? 'block' : 'none';\n",
              "\n",
              "        async function convertToInteractive(key) {\n",
              "          const element = document.querySelector('#df-22e023fb-7385-417c-8a82-1b43454d5025');\n",
              "          const dataTable =\n",
              "            await google.colab.kernel.invokeFunction('convertToInteractive',\n",
              "                                                     [key], {});\n",
              "          if (!dataTable) return;\n",
              "\n",
              "          const docLinkHtml = 'Like what you see? Visit the ' +\n",
              "            '<a target=\"_blank\" href=https://colab.research.google.com/notebooks/data_table.ipynb>data table notebook</a>'\n",
              "            + ' to learn more about interactive tables.';\n",
              "          element.innerHTML = '';\n",
              "          dataTable['output_type'] = 'display_data';\n",
              "          await google.colab.output.renderOutput(dataTable, element);\n",
              "          const docLink = document.createElement('div');\n",
              "          docLink.innerHTML = docLinkHtml;\n",
              "          element.appendChild(docLink);\n",
              "        }\n",
              "      </script>\n",
              "    </div>\n",
              "  </div>\n",
              "  "
            ]
          },
          "metadata": {},
          "execution_count": 63
        }
      ],
      "source": [
        "cv_results = pd.DataFrame(gcv.cv_results_)\n",
        "cv_results.head()"
      ]
    },
    {
      "cell_type": "code",
      "execution_count": null,
      "metadata": {
        "colab": {
          "base_uri": "https://localhost:8080/",
          "height": 352
        },
        "id": "9Y75B_c_hn3b",
        "outputId": "bee34158-3774-4381-83e5-2b9f952e8e6e"
      },
      "outputs": [
        {
          "output_type": "display_data",
          "data": {
            "text/plain": [
              "<Figure size 576x360 with 1 Axes>"
            ],
            "image/png": "[encoded data removed]"
          },
          "metadata": {
            "needs_background": "light"
          }
        }
      ],
      "source": [
        "# https://scikit-learn.org/dev/auto_examples/model_selection/plot_multi_metric_evaluation.html\n",
        "plt.figure(figsize=(8, 5))\n",
        "plt.title(\"GridSearchCV results\", fontsize=14)\n",
        "\n",
        "plt.xlabel(\"max_depth\")\n",
        "plt.ylabel(\"f1\")\n",
        "\n",
        "ax = plt.gca()\n",
        "ax.set_xlim(1, 30)\n",
        "ax.set_ylim(0.9, 1)\n",
        "\n",
        "X_axis = np.array(results['param_max_depth'].data, dtype=float)\n",
        "\n",
        "for scorer, color in zip(sorted(scoring), ['g', 'k']):\n",
        "    for sample, style in (('train', '--'), ('test', '-')):\n",
        "        sample_score_mean = results['mean_%s_%s' % (sample, scorer)]\n",
        "        sample_score_std = results['std_%s_%s' % (sample, scorer)]\n",
        "        ax.fill_between(X_axis, sample_score_mean - sample_score_std,\n",
        "                        sample_score_mean + sample_score_std,\n",
        "                        alpha=0.1 if sample == 'test' else 0, color=color)\n",
        "        ax.plot(X_axis, sample_score_mean, style, color=color,\n",
        "                alpha=1 if sample == 'test' else 0.7,\n",
        "                label=\"%s (%s)\" % (scorer, sample))\n",
        "\n",
        "    best_index = np.nonzero(results['rank_test_%s' % scorer] == 1)[0][0]\n",
        "    best_score = results['mean_test_%s' % scorer][best_index]\n",
        "\n",
        "    # Plot a dotted vertical line at the best score for that scorer marked by x\n",
        "    ax.plot([X_axis[best_index], ] * 2, [0, best_score],\n",
        "            linestyle='-.', color=color, marker='x', markeredgewidth=3, ms=8)\n",
        "\n",
        "    # Annotate the best score for that scorer\n",
        "    ax.annotate(\"%0.2f\" % best_score,\n",
        "                (X_axis[best_index] + 0.3, best_score + 0.005))\n",
        "\n",
        "plt.legend(loc=\"best\")\n",
        "plt.grid(False)\n",
        "plt.savefig('GridSearchCV_results.png', dpi=300)\n",
        "plt.show()"
      ]
    },
    {
      "cell_type": "markdown",
      "metadata": {
        "id": "hZtnTrlNk_Uf"
      },
      "source": [
        "### Grid search"
      ]
    },
    {
      "cell_type": "code",
      "execution_count": null,
      "metadata": {
        "id": "eaeAf6VRhwJq"
      },
      "outputs": [],
      "source": [
        "parameters = {'n_estimators': [30, 50, 70], \n",
        "              'min_samples_leaf': [3, 5, 7],\n",
        "              'max_features': [3, 5, 7, 10], \n",
        "              'max_depth': [10, 17, 23]}\n",
        "\n",
        "# parameters = {'n_estimators': [250]}"
      ]
    },
    {
      "cell_type": "markdown",
      "metadata": {
        "id": "1YUy-KIALOPH"
      },
      "source": [
        "The operation may take a long time, 3-5 minutes depending on the computer performance."
      ]
    },
    {
      "cell_type": "code",
      "execution_count": null,
      "metadata": {
        "colab": {
          "base_uri": "https://localhost:8080/"
        },
        "id": "O3ziP5BolEss",
        "outputId": "db97e54b-6a26-452c-8ab4-9d912a589a3e"
      },
      "outputs": [
        {
          "output_type": "stream",
          "name": "stdout",
          "text": [
            "CPU times: user 1min 59s, sys: 241 ms, total: 2min\n",
            "Wall time: 2min\n"
          ]
        },
        {
          "output_type": "execute_result",
          "data": {
            "text/plain": [
              "GridSearchCV(cv=3, estimator=RandomForestClassifier(random_state=1),\n",
              "             param_grid={'max_depth': [10, 17, 23],\n",
              "                         'max_features': [3, 5, 7, 10],\n",
              "                         'min_samples_leaf': [3, 5, 7],\n",
              "                         'n_estimators': [30, 50, 70]},\n",
              "             refit='f1', return_train_score=True, scoring={'f1', 'accuracy'})"
            ]
          },
          "metadata": {},
          "execution_count": 66
        }
      ],
      "source": [
        "gcv = GridSearchCV(rfc, parameters, scoring=scoring, refit='f1', cv=3, return_train_score=True)\n",
        "get_ipython().run_line_magic('time', 'gcv.fit(X, y)')"
      ]
    },
    {
      "cell_type": "markdown",
      "metadata": {
        "id": "vwi5Ds61mirz"
      },
      "source": [
        "Let's take a look at the results of the parameter selection."
      ]
    },
    {
      "cell_type": "code",
      "execution_count": null,
      "metadata": {
        "colab": {
          "base_uri": "https://localhost:8080/"
        },
        "id": "vi47XwmNmeHT",
        "outputId": "8f8658d2-9284-4a86-8a29-c5579295aec1"
      },
      "outputs": [
        {
          "output_type": "execute_result",
          "data": {
            "text/plain": [
              "RandomForestClassifier(max_depth=17, max_features=10, min_samples_leaf=5,\n",
              "                       n_estimators=70, random_state=1)"
            ]
          },
          "metadata": {},
          "execution_count": 67
        }
      ],
      "source": [
        "gcv.best_estimator_ "
      ]
    },
    {
      "cell_type": "code",
      "execution_count": null,
      "metadata": {
        "colab": {
          "base_uri": "https://localhost:8080/"
        },
        "id": "PxeUXPHHmk3C",
        "outputId": "90515ccc-9a6c-4fe1-9843-bc28a401f484"
      },
      "outputs": [
        {
          "output_type": "execute_result",
          "data": {
            "text/plain": [
              "{'max_depth': 17,\n",
              " 'max_features': 10,\n",
              " 'min_samples_leaf': 5,\n",
              " 'n_estimators': 70}"
            ]
          },
          "metadata": {},
          "execution_count": 68
        }
      ],
      "source": [
        "gcv.best_params_"
      ]
    },
    {
      "cell_type": "code",
      "execution_count": null,
      "metadata": {
        "colab": {
          "base_uri": "https://localhost:8080/"
        },
        "id": "4VFX3ERUmlvk",
        "outputId": "1bea3989-8c2f-437b-8edc-8a6d064f9320"
      },
      "outputs": [
        {
          "output_type": "execute_result",
          "data": {
            "text/plain": [
              "0.9521575382528021"
            ]
          },
          "metadata": {},
          "execution_count": 69
        }
      ],
      "source": [
        "gcv.best_score_"
      ]
    },
    {
      "cell_type": "markdown",
      "metadata": {
        "id": "Iiskwr3VmoL5"
      },
      "source": [
        "## Final model"
      ]
    },
    {
      "cell_type": "code",
      "execution_count": null,
      "metadata": {
        "colab": {
          "base_uri": "https://localhost:8080/"
        },
        "id": "BtAQq0prLOPI",
        "outputId": "e0c90321-deaa-4e44-9d70-31d119f57fcf"
      },
      "outputs": [
        {
          "output_type": "stream",
          "name": "stdout",
          "text": [
            "(5086, 10) (5086,)\n",
            "(2181, 10) (2181,)\n"
          ]
        }
      ],
      "source": [
        "X_train, X_test, y_train, y_test = train_test_split(X, y, test_size=0.3, random_state=42)\n",
        "print(X_train.shape, y_train.shape)\n",
        "print(X_test.shape, y_test.shape)"
      ]
    },
    {
      "cell_type": "code",
      "execution_count": null,
      "metadata": {
        "colab": {
          "base_uri": "https://localhost:8080/"
        },
        "id": "7F8aWhX3mm8B",
        "outputId": "19b9f98d-09ad-43e8-8267-c4ec14603210"
      },
      "outputs": [
        {
          "output_type": "execute_result",
          "data": {
            "text/plain": [
              "RandomForestClassifier(max_depth=17, max_features=10, min_samples_leaf=3,\n",
              "                       n_estimators=50, oob_score=True, random_state=42)"
            ]
          },
          "metadata": {},
          "execution_count": 71
        }
      ],
      "source": [
        "rfc = RandomForestClassifier(max_depth=17, max_features=10, min_samples_leaf=3, n_estimators=50, random_state=42, oob_score=True)\n",
        "# rfc = RandomForestClassifier(n_estimators=250, random_state=1)\n",
        "rfc.fit(X_train, y_train)"
      ]
    },
    {
      "cell_type": "code",
      "execution_count": null,
      "metadata": {
        "colab": {
          "base_uri": "https://localhost:8080/"
        },
        "id": "yULIEGsxmtsQ",
        "outputId": "7e5d1573-b9a4-44b6-9117-824682ecda24"
      },
      "outputs": [
        {
          "output_type": "stream",
          "name": "stdout",
          "text": [
            "1.\t#2\t0.410\tMax Packet Length\n",
            "2.\t#0\t0.243\tAverage Packet Size\n",
            "3.\t#8\t0.129\tFwd IAT Std\n",
            "4.\t#5\t0.068\tTotal Length of Fwd Packets\n",
            "5.\t#9\t0.049\tFwd Header Length\n",
            "6.\t#6\t0.048\tFlow IAT Mean\n",
            "7.\t#4\t0.026\tFwd IAT Min\n",
            "8.\t#1\t0.014\tFlow Bytes/s\n",
            "9.\t#3\t0.012\tFwd Packet Length Mean\n",
            "10.\t#7\t0.002\tFwd Packet Length Max\n"
          ]
        }
      ],
      "source": [
        "features = X.columns\n",
        "importances = rfc.feature_importances_\n",
        "indices = np.argsort(importances)[::-1]\n",
        "    \n",
        "for index, i in enumerate(indices[:10]):\n",
        "    print('{}.\\t#{}\\t{:.3f}\\t{}'.format(index + 1, i, importances[i], features[i]))"
      ]
    },
    {
      "cell_type": "code",
      "execution_count": null,
      "metadata": {
        "colab": {
          "base_uri": "https://localhost:8080/"
        },
        "id": "flU4zn-NLOPK",
        "outputId": "e5f1a666-0281-40a0-d1fb-2bf3abd41875"
      },
      "outputs": [
        {
          "output_type": "execute_result",
          "data": {
            "text/plain": [
              "array([[1483,   33],\n",
              "       [  21,  644]])"
            ]
          },
          "metadata": {},
          "execution_count": 73
        }
      ],
      "source": [
        "y_pred = rfc.predict(X_test)\n",
        "confusion_matrix(y_test, y_pred)"
      ]
    },
    {
      "cell_type": "code",
      "execution_count": null,
      "metadata": {
        "colab": {
          "base_uri": "https://localhost:8080/"
        },
        "id": "WWgbCOjZoIYX",
        "outputId": "f9a75673-0fa7-4e06-d741-cb3b788bdd16"
      },
      "outputs": [
        {
          "output_type": "stream",
          "name": "stdout",
          "text": [
            "Accuracy = 0.9752407152682255\n",
            "Precision = 0.9512555391432792\n",
            "Recall = 0.968421052631579\n",
            "F1 = 0.9597615499254843\n"
          ]
        }
      ],
      "source": [
        "import sklearn.metrics as metrics\n",
        "accuracy = metrics.accuracy_score(y_test, y_pred)\n",
        "precision = metrics.precision_score(y_test, y_pred)\n",
        "recall = metrics.recall_score(y_test, y_pred)\n",
        "f1 = metrics.f1_score(y_test, y_pred)\n",
        "print('Accuracy =', accuracy)\n",
        "print('Precision =', precision)\n",
        "print('Recall =', recall)\n",
        "print('F1 =', f1)"
      ]
    },
    {
      "cell_type": "markdown",
      "metadata": {
        "id": "5PElFLh5oYzU"
      },
      "source": [
        "## Model saving"
      ]
    },
    {
      "cell_type": "code",
      "execution_count": null,
      "metadata": {
        "id": "QjZyFNFIoMFK"
      },
      "outputs": [],
      "source": [
        "import pickle\n",
        "with open('webattack_detection_rf_model.pkl', 'wb') as f:\n",
        "    pickle.dump(rfc, f)"
      ]
    },
    {
      "cell_type": "markdown",
      "metadata": {
        "id": "pnHSPBrDodIs"
      },
      "source": [
        "## Model approbation"
      ]
    },
    {
      "cell_type": "markdown",
      "metadata": {
        "id": "98uX2hrvofRR"
      },
      "source": [
        "Open the previously saved model."
      ]
    },
    {
      "cell_type": "code",
      "execution_count": null,
      "metadata": {
        "colab": {
          "base_uri": "https://localhost:8080/"
        },
        "id": "hxBtpLABob_z",
        "outputId": "c8481df5-0170-46c4-d895-0a58de6faa20"
      },
      "outputs": [
        {
          "output_type": "execute_result",
          "data": {
            "text/plain": [
              "RandomForestClassifier(max_depth=17, max_features=10, min_samples_leaf=3,\n",
              "                       n_estimators=50, oob_score=True, random_state=42)"
            ]
          },
          "metadata": {},
          "execution_count": 76
        }
      ],
      "source": [
        "with open('webattack_detection_rf_model.pkl', 'rb') as f:\n",
        "    rfc = pickle.load(f)\n",
        "rfc"
      ]
    },
    {
      "cell_type": "markdown",
      "metadata": {
        "id": "znNcDQd-oh5G"
      },
      "source": [
        "Reopen the dataset."
      ]
    },
    {
      "cell_type": "code",
      "execution_count": null,
      "metadata": {
        "colab": {
          "base_uri": "https://localhost:8080/"
        },
        "id": "z_vhT5fcoguX",
        "outputId": "98dfe2b8-2497-4a1e-c270-4394f4507b12"
      },
      "outputs": [
        {
          "output_type": "stream",
          "name": "stdout",
          "text": [
            "(7267, 10) (7267,)\n"
          ]
        }
      ],
      "source": [
        "df = pd.read_csv('web_attacks_balanced.csv')\n",
        "df['Label'] = df['Label'].apply(lambda x: 0 if x == 'BENIGN' else 1)\n",
        "y_test = df['Label'].values\n",
        "X_test = df[webattack_features]\n",
        "print(X_test.shape, y_test.shape)"
      ]
    },
    {
      "cell_type": "markdown",
      "metadata": {
        "id": "lRySta_gLOPN"
      },
      "source": [
        "If necessary, we will work with our own dataset."
      ]
    },
    {
      "cell_type": "code",
      "execution_count": null,
      "metadata": {
        "id": "f8hi29sPLOPN"
      },
      "outputs": [],
      "source": [
        "#df = pd.read_csv('mix_labelled.csv')\n",
        "#y_test = df['Label'].values\n",
        "#X_test = df[webattack_features]\n",
        "#print(X_test.shape, y_test.shape)"
      ]
    },
    {
      "cell_type": "code",
      "execution_count": null,
      "metadata": {
        "colab": {
          "base_uri": "https://localhost:8080/",
          "height": 206
        },
        "id": "wmcv42wHoltz",
        "outputId": "c09209de-1eeb-41bd-9587-a11d6c735d32"
      },
      "outputs": [
        {
          "output_type": "execute_result",
          "data": {
            "text/plain": [
              "   Average Packet Size  Flow Bytes/s  Max Packet Length  \\\n",
              "0                63.50  1.361963e+06               79.0   \n",
              "1                63.50  1.370370e+06               79.0   \n",
              "2                94.25  1.646465e+06              112.0   \n",
              "3               102.50  6.601925e+03              105.0   \n",
              "4                48.00  7.547170e+05               48.0   \n",
              "\n",
              "   Fwd Packet Length Mean  Fwd IAT Min  Total Length of Fwd Packets  \\\n",
              "0                    32.0          1.0                         64.0   \n",
              "1                    32.0          1.0                         64.0   \n",
              "2                    51.0          1.0                        102.0   \n",
              "3                    50.0          0.0                         50.0   \n",
              "4                    32.0         49.0                         64.0   \n",
              "\n",
              "   Flow IAT Mean  Fwd Packet Length Max  Fwd IAT Std  Fwd Header Length  \n",
              "0      54.333333                   32.0          0.0               64.0  \n",
              "1      54.000000                   32.0          0.0               64.0  \n",
              "2      66.000000                   51.0          0.0               64.0  \n",
              "3   23478.000000                   50.0          0.0               32.0  \n",
              "4      70.666667                   32.0          0.0               64.0  "
            ],
            "text/html": [
              "\n",
              "  <div id=\"df-efbd8e03-fe32-4c8b-b699-7b9d4a21829b\">\n",
              "    <div class=\"colab-df-container\">\n",
              "      <div>\n",
              "<style scoped>\n",
              "    .dataframe tbody tr th:only-of-type {\n",
              "        vertical-align: middle;\n",
              "    }\n",
              "\n",
              "    .dataframe tbody tr th {\n",
              "        vertical-align: top;\n",
              "    }\n",
              "\n",
              "    .dataframe thead th {\n",
              "        text-align: right;\n",
              "    }\n",
              "</style>\n",
              "<table border=\"1\" class=\"dataframe\">\n",
              "  <thead>\n",
              "    <tr style=\"text-align: right;\">\n",
              "      <th></th>\n",
              "      <th>Average Packet Size</th>\n",
              "      <th>Flow Bytes/s</th>\n",
              "      <th>Max Packet Length</th>\n",
              "      <th>Fwd Packet Length Mean</th>\n",
              "      <th>Fwd IAT Min</th>\n",
              "      <th>Total Length of Fwd Packets</th>\n",
              "      <th>Flow IAT Mean</th>\n",
              "      <th>Fwd Packet Length Max</th>\n",
              "      <th>Fwd IAT Std</th>\n",
              "      <th>Fwd Header Length</th>\n",
              "    </tr>\n",
              "  </thead>\n",
              "  <tbody>\n",
              "    <tr>\n",
              "      <th>0</th>\n",
              "      <td>63.50</td>\n",
              "      <td>1.361963e+06</td>\n",
              "      <td>79.0</td>\n",
              "      <td>32.0</td>\n",
              "      <td>1.0</td>\n",
              "      <td>64.0</td>\n",
              "      <td>54.333333</td>\n",
              "      <td>32.0</td>\n",
              "      <td>0.0</td>\n",
              "      <td>64.0</td>\n",
              "    </tr>\n",
              "    <tr>\n",
              "      <th>1</th>\n",
              "      <td>63.50</td>\n",
              "      <td>1.370370e+06</td>\n",
              "      <td>79.0</td>\n",
              "      <td>32.0</td>\n",
              "      <td>1.0</td>\n",
              "      <td>64.0</td>\n",
              "      <td>54.000000</td>\n",
              "      <td>32.0</td>\n",
              "      <td>0.0</td>\n",
              "      <td>64.0</td>\n",
              "    </tr>\n",
              "    <tr>\n",
              "      <th>2</th>\n",
              "      <td>94.25</td>\n",
              "      <td>1.646465e+06</td>\n",
              "      <td>112.0</td>\n",
              "      <td>51.0</td>\n",
              "      <td>1.0</td>\n",
              "      <td>102.0</td>\n",
              "      <td>66.000000</td>\n",
              "      <td>51.0</td>\n",
              "      <td>0.0</td>\n",
              "      <td>64.0</td>\n",
              "    </tr>\n",
              "    <tr>\n",
              "      <th>3</th>\n",
              "      <td>102.50</td>\n",
              "      <td>6.601925e+03</td>\n",
              "      <td>105.0</td>\n",
              "      <td>50.0</td>\n",
              "      <td>0.0</td>\n",
              "      <td>50.0</td>\n",
              "      <td>23478.000000</td>\n",
              "      <td>50.0</td>\n",
              "      <td>0.0</td>\n",
              "      <td>32.0</td>\n",
              "    </tr>\n",
              "    <tr>\n",
              "      <th>4</th>\n",
              "      <td>48.00</td>\n",
              "      <td>7.547170e+05</td>\n",
              "      <td>48.0</td>\n",
              "      <td>32.0</td>\n",
              "      <td>49.0</td>\n",
              "      <td>64.0</td>\n",
              "      <td>70.666667</td>\n",
              "      <td>32.0</td>\n",
              "      <td>0.0</td>\n",
              "      <td>64.0</td>\n",
              "    </tr>\n",
              "  </tbody>\n",
              "</table>\n",
              "</div>\n",
              "      <button class=\"colab-df-convert\" onclick=\"convertToInteractive('df-efbd8e03-fe32-4c8b-b699-7b9d4a21829b')\"\n",
              "              title=\"Convert this dataframe to an interactive table.\"\n",
              "              style=\"display:none;\">\n",
              "        \n",
              "  <svg xmlns=\"http://www.w3.org/2000/svg\" height=\"24px\"viewBox=\"0 0 24 24\"\n",
              "       width=\"24px\">\n",
              "    <path d=\"M0 0h24v24H0V0z\" fill=\"none\"/>\n",
              "    <path d=\"M18.56 5.44l.94 2.06.94-2.06 2.06-.94-2.06-.94-.94-2.06-.94 2.06-2.06.94zm-11 1L8.5 8.5l.94-2.06 2.06-.94-2.06-.94L8.5 2.5l-.94 2.06-2.06.94zm10 10l.94 2.06.94-2.06 2.06-.94-2.06-.94-.94-2.06-.94 2.06-2.06.94z\"/><path d=\"M17.41 7.96l-1.37-1.37c-.4-.4-.92-.59-1.43-.59-.52 0-1.04.2-1.43.59L10.3 9.45l-7.72 7.72c-.78.78-.78 2.05 0 2.83L4 21.41c.39.39.9.59 1.41.59.51 0 1.02-.2 1.41-.59l7.78-7.78 2.81-2.81c.8-.78.8-2.07 0-2.86zM5.41 20L4 18.59l7.72-7.72 1.47 1.35L5.41 20z\"/>\n",
              "  </svg>\n",
              "      </button>\n",
              "      \n",
              "  <style>\n",
              "    .colab-df-container {\n",
              "      display:flex;\n",
              "      flex-wrap:wrap;\n",
              "      gap: 12px;\n",
              "    }\n",
              "\n",
              "    .colab-df-convert {\n",
              "      background-color: #E8F0FE;\n",
              "      border: none;\n",
              "      border-radius: 50%;\n",
              "      cursor: pointer;\n",
              "      display: none;\n",
              "      fill: #1967D2;\n",
              "      height: 32px;\n",
              "      padding: 0 0 0 0;\n",
              "      width: 32px;\n",
              "    }\n",
              "\n",
              "    .colab-df-convert:hover {\n",
              "      background-color: #E2EBFA;\n",
              "      box-shadow: 0px 1px 2px rgba(60, 64, 67, 0.3), 0px 1px 3px 1px rgba(60, 64, 67, 0.15);\n",
              "      fill: #174EA6;\n",
              "    }\n",
              "\n",
              "    [theme=dark] .colab-df-convert {\n",
              "      background-color: #3B4455;\n",
              "      fill: #D2E3FC;\n",
              "    }\n",
              "\n",
              "    [theme=dark] .colab-df-convert:hover {\n",
              "      background-color: #434B5C;\n",
              "      box-shadow: 0px 1px 3px 1px rgba(0, 0, 0, 0.15);\n",
              "      filter: drop-shadow(0px 1px 2px rgba(0, 0, 0, 0.3));\n",
              "      fill: #FFFFFF;\n",
              "    }\n",
              "  </style>\n",
              "\n",
              "      <script>\n",
              "        const buttonEl =\n",
              "          document.querySelector('#df-efbd8e03-fe32-4c8b-b699-7b9d4a21829b button.colab-df-convert');\n",
              "        buttonEl.style.display =\n",
              "          google.colab.kernel.accessAllowed ? 'block' : 'none';\n",
              "\n",
              "        async function convertToInteractive(key) {\n",
              "          const element = document.querySelector('#df-efbd8e03-fe32-4c8b-b699-7b9d4a21829b');\n",
              "          const dataTable =\n",
              "            await google.colab.kernel.invokeFunction('convertToInteractive',\n",
              "                                                     [key], {});\n",
              "          if (!dataTable) return;\n",
              "\n",
              "          const docLinkHtml = 'Like what you see? Visit the ' +\n",
              "            '<a target=\"_blank\" href=https://colab.research.google.com/notebooks/data_table.ipynb>data table notebook</a>'\n",
              "            + ' to learn more about interactive tables.';\n",
              "          element.innerHTML = '';\n",
              "          dataTable['output_type'] = 'display_data';\n",
              "          await google.colab.output.renderOutput(dataTable, element);\n",
              "          const docLink = document.createElement('div');\n",
              "          docLink.innerHTML = docLinkHtml;\n",
              "          element.appendChild(docLink);\n",
              "        }\n",
              "      </script>\n",
              "    </div>\n",
              "  </div>\n",
              "  "
            ]
          },
          "metadata": {},
          "execution_count": 79
        }
      ],
      "source": [
        "X_test.head()"
      ]
    },
    {
      "cell_type": "code",
      "execution_count": null,
      "metadata": {
        "colab": {
          "base_uri": "https://localhost:8080/"
        },
        "id": "-lSUUhseopZz",
        "outputId": "c2eb8407-a9c3-40b1-9f54-1f37c6fdc049"
      },
      "outputs": [
        {
          "output_type": "stream",
          "name": "stdout",
          "text": [
            "Total operation time: 0.03511977195739746 seconds\n",
            "Benign records detected (0), attacks detected (1):\n"
          ]
        },
        {
          "output_type": "execute_result",
          "data": {
            "text/plain": [
              "{0: 5070, 1: 2197}"
            ]
          },
          "metadata": {},
          "execution_count": 80
        }
      ],
      "source": [
        "import time\n",
        "seconds = time.time()\n",
        "y_pred = rfc.predict(X_test)\n",
        "print(\"Total operation time:\", time.time() - seconds, \"seconds\")\n",
        "\n",
        "print(\"Benign records detected (0), attacks detected (1):\")\n",
        "unique, counts = np.unique(y_pred, return_counts=True)\n",
        "dict(zip(unique, counts))"
      ]
    },
    {
      "cell_type": "markdown",
      "metadata": {
        "id": "J2czidjro0at"
      },
      "source": [
        "Confusion matrix:\n",
        "\n",
        "      0  1 - predicted value (Wikipedia uses different convention for axes)\n",
        "    0 TN FP\n",
        "    1 FN TP"
      ]
    },
    {
      "cell_type": "code",
      "execution_count": null,
      "metadata": {
        "colab": {
          "base_uri": "https://localhost:8080/"
        },
        "id": "-g03Us5potkl",
        "outputId": "4081f9e9-2fe3-4e03-8d70-c9d47011bf1b"
      },
      "outputs": [
        {
          "output_type": "execute_result",
          "data": {
            "text/plain": [
              "array([[5012,   75],\n",
              "       [  58, 2122]])"
            ]
          },
          "metadata": {},
          "execution_count": 81
        }
      ],
      "source": [
        "confusion_matrix(y_test, y_pred)"
      ]
    },
    {
      "cell_type": "code",
      "execution_count": null,
      "metadata": {
        "colab": {
          "base_uri": "https://localhost:8080/"
        },
        "id": "qBDPbUU_o6Pi",
        "outputId": "f4b749f1-2efa-487b-c960-72700ac53754"
      },
      "outputs": [
        {
          "output_type": "stream",
          "name": "stdout",
          "text": [
            "Accuracy = 0.9816980872437044\n",
            "Precision = 0.9658625398270368\n",
            "Recall = 0.9733944954128441\n",
            "F1 = 0.9696138907927806\n"
          ]
        }
      ],
      "source": [
        "accuracy = metrics.accuracy_score(y_test, y_pred)\n",
        "precision = metrics.precision_score(y_test, y_pred)\n",
        "recall = metrics.recall_score(y_test, y_pred)\n",
        "f1 = metrics.f1_score(y_test, y_pred)\n",
        "print('Accuracy =', accuracy)\n",
        "print('Precision =', precision)\n",
        "print('Recall =', recall)\n",
        "print('F1 =', f1)"
      ]
    },
    {
      "cell_type": "markdown",
      "metadata": {
        "id": "u4OU8WyZpJdD"
      },
      "source": [
        "Manual calculation of the confusion matrix:\n",
        "    \n",
        "    array([[5075,   12],\n",
        "           [   1, 2179]], dtype=int64)\n",
        "  \n",
        "      0  1 - predicted value (Wikipedia uses different convention for axes)\n",
        "    0 TN FP\n",
        "    1 FN TP\n",
        "\n",
        "    Точность\n",
        "    Precision = TP / (TP + FP) = 2179 / (2179 + 12) = 0.9945230488361478\n",
        "\n",
        "    Полнота\n",
        "    Recall = TP / (TP + FN) = 2179 / (2179 + 1) = 0.9995412844036697\n",
        "\n",
        "    F-мера, параметр = 1, гармоническое среднее точности и полноты, множитель = 2\n",
        "    F1 = 2 * (precision * recall) / (precision + recall) = 0.9970258522077328\n",
        "\n",
        "    Доля правильных ответов\n",
        "    Accuracy = TP + TN / (TP + TN + FP + FN) = (2179 + 5075) / 7267 = 0.998211091234347"
      ]
    },
    {
      "cell_type": "code",
      "execution_count": null,
      "metadata": {
        "id": "RyyORmRrpDTz"
      },
      "outputs": [],
      "source": [
        "predict = pd.DataFrame({'Predict': rfc.predict(X_test)})\n",
        "label = pd.DataFrame({'Label': y_test})\n",
        "result = X_test.join(label).join(predict)"
      ]
    },
    {
      "cell_type": "code",
      "execution_count": null,
      "metadata": {
        "colab": {
          "base_uri": "https://localhost:8080/",
          "height": 424
        },
        "id": "Vgpf2SVmpnyp",
        "outputId": "a3c5df66-895b-4ae1-e0a5-136d1c0bc240"
      },
      "outputs": [
        {
          "output_type": "execute_result",
          "data": {
            "text/plain": [
              "      Average Packet Size  Flow Bytes/s  Max Packet Length  \\\n",
              "107                 103.4   9430.348576              517.0   \n",
              "108                   0.0      0.000000                0.0   \n",
              "190                   0.0      0.000000                0.0   \n",
              "265                   0.0      0.000000                0.0   \n",
              "401                   0.0      0.000000                0.0   \n",
              "...                   ...           ...                ...   \n",
              "6888                  0.0      0.000000                0.0   \n",
              "6968                  0.0      0.000000                0.0   \n",
              "7132                  0.0      0.000000                0.0   \n",
              "7171                  0.0      0.000000                0.0   \n",
              "7177                  0.0      0.000000                0.0   \n",
              "\n",
              "      Fwd Packet Length Mean  Fwd IAT Min  Total Length of Fwd Packets  \\\n",
              "107                   129.25        192.0                        517.0   \n",
              "108                     0.00          0.0                          0.0   \n",
              "190                     0.00          0.0                          0.0   \n",
              "265                     0.00          0.0                          0.0   \n",
              "401                     0.00          0.0                          0.0   \n",
              "...                      ...          ...                          ...   \n",
              "6888                    0.00          0.0                          0.0   \n",
              "6968                    0.00          0.0                          0.0   \n",
              "7132                    0.00        255.0                          0.0   \n",
              "7171                    0.00          0.0                          0.0   \n",
              "7177                    0.00          0.0                          0.0   \n",
              "\n",
              "      Flow IAT Mean  Fwd Packet Length Max  Fwd IAT Std  Fwd Header Length  \\\n",
              "107        13705.75                  517.0  26431.01663              136.0   \n",
              "108           90.00                    0.0      0.00000               32.0   \n",
              "190           28.00                    0.0      0.00000               32.0   \n",
              "265           77.00                    0.0      0.00000               32.0   \n",
              "401          111.00                    0.0      0.00000               32.0   \n",
              "...             ...                    ...          ...                ...   \n",
              "6888          31.00                    0.0      0.00000               32.0   \n",
              "6968          91.00                    0.0      0.00000               32.0   \n",
              "7132         255.00                    0.0      0.00000               64.0   \n",
              "7171          50.00                    0.0      0.00000               32.0   \n",
              "7177          70.00                    0.0      0.00000               32.0   \n",
              "\n",
              "      Label  Predict  \n",
              "107       0        1  \n",
              "108       0        1  \n",
              "190       0        1  \n",
              "265       0        1  \n",
              "401       0        1  \n",
              "...     ...      ...  \n",
              "6888      0        1  \n",
              "6968      0        1  \n",
              "7132      0        1  \n",
              "7171      0        1  \n",
              "7177      0        1  \n",
              "\n",
              "[2197 rows x 12 columns]"
            ],
            "text/html": [
              "\n",
              "  <div id=\"df-e8c0a86a-59f5-4b59-be9e-26a3e249075c\">\n",
              "    <div class=\"colab-df-container\">\n",
              "      <div>\n",
              "<style scoped>\n",
              "    .dataframe tbody tr th:only-of-type {\n",
              "        vertical-align: middle;\n",
              "    }\n",
              "\n",
              "    .dataframe tbody tr th {\n",
              "        vertical-align: top;\n",
              "    }\n",
              "\n",
              "    .dataframe thead th {\n",
              "        text-align: right;\n",
              "    }\n",
              "</style>\n",
              "<table border=\"1\" class=\"dataframe\">\n",
              "  <thead>\n",
              "    <tr style=\"text-align: right;\">\n",
              "      <th></th>\n",
              "      <th>Average Packet Size</th>\n",
              "      <th>Flow Bytes/s</th>\n",
              "      <th>Max Packet Length</th>\n",
              "      <th>Fwd Packet Length Mean</th>\n",
              "      <th>Fwd IAT Min</th>\n",
              "      <th>Total Length of Fwd Packets</th>\n",
              "      <th>Flow IAT Mean</th>\n",
              "      <th>Fwd Packet Length Max</th>\n",
              "      <th>Fwd IAT Std</th>\n",
              "      <th>Fwd Header Length</th>\n",
              "      <th>Label</th>\n",
              "      <th>Predict</th>\n",
              "    </tr>\n",
              "  </thead>\n",
              "  <tbody>\n",
              "    <tr>\n",
              "      <th>107</th>\n",
              "      <td>103.4</td>\n",
              "      <td>9430.348576</td>\n",
              "      <td>517.0</td>\n",
              "      <td>129.25</td>\n",
              "      <td>192.0</td>\n",
              "      <td>517.0</td>\n",
              "      <td>13705.75</td>\n",
              "      <td>517.0</td>\n",
              "      <td>26431.01663</td>\n",
              "      <td>136.0</td>\n",
              "      <td>0</td>\n",
              "      <td>1</td>\n",
              "    </tr>\n",
              "    <tr>\n",
              "      <th>108</th>\n",
              "      <td>0.0</td>\n",
              "      <td>0.000000</td>\n",
              "      <td>0.0</td>\n",
              "      <td>0.00</td>\n",
              "      <td>0.0</td>\n",
              "      <td>0.0</td>\n",
              "      <td>90.00</td>\n",
              "      <td>0.0</td>\n",
              "      <td>0.00000</td>\n",
              "      <td>32.0</td>\n",
              "      <td>0</td>\n",
              "      <td>1</td>\n",
              "    </tr>\n",
              "    <tr>\n",
              "      <th>190</th>\n",
              "      <td>0.0</td>\n",
              "      <td>0.000000</td>\n",
              "      <td>0.0</td>\n",
              "      <td>0.00</td>\n",
              "      <td>0.0</td>\n",
              "      <td>0.0</td>\n",
              "      <td>28.00</td>\n",
              "      <td>0.0</td>\n",
              "      <td>0.00000</td>\n",
              "      <td>32.0</td>\n",
              "      <td>0</td>\n",
              "      <td>1</td>\n",
              "    </tr>\n",
              "    <tr>\n",
              "      <th>265</th>\n",
              "      <td>0.0</td>\n",
              "      <td>0.000000</td>\n",
              "      <td>0.0</td>\n",
              "      <td>0.00</td>\n",
              "      <td>0.0</td>\n",
              "      <td>0.0</td>\n",
              "      <td>77.00</td>\n",
              "      <td>0.0</td>\n",
              "      <td>0.00000</td>\n",
              "      <td>32.0</td>\n",
              "      <td>0</td>\n",
              "      <td>1</td>\n",
              "    </tr>\n",
              "    <tr>\n",
              "      <th>401</th>\n",
              "      <td>0.0</td>\n",
              "      <td>0.000000</td>\n",
              "      <td>0.0</td>\n",
              "      <td>0.00</td>\n",
              "      <td>0.0</td>\n",
              "      <td>0.0</td>\n",
              "      <td>111.00</td>\n",
              "      <td>0.0</td>\n",
              "      <td>0.00000</td>\n",
              "      <td>32.0</td>\n",
              "      <td>0</td>\n",
              "      <td>1</td>\n",
              "    </tr>\n",
              "    <tr>\n",
              "      <th>...</th>\n",
              "      <td>...</td>\n",
              "      <td>...</td>\n",
              "      <td>...</td>\n",
              "      <td>...</td>\n",
              "      <td>...</td>\n",
              "      <td>...</td>\n",
              "      <td>...</td>\n",
              "      <td>...</td>\n",
              "      <td>...</td>\n",
              "      <td>...</td>\n",
              "      <td>...</td>\n",
              "      <td>...</td>\n",
              "    </tr>\n",
              "    <tr>\n",
              "      <th>6888</th>\n",
              "      <td>0.0</td>\n",
              "      <td>0.000000</td>\n",
              "      <td>0.0</td>\n",
              "      <td>0.00</td>\n",
              "      <td>0.0</td>\n",
              "      <td>0.0</td>\n",
              "      <td>31.00</td>\n",
              "      <td>0.0</td>\n",
              "      <td>0.00000</td>\n",
              "      <td>32.0</td>\n",
              "      <td>0</td>\n",
              "      <td>1</td>\n",
              "    </tr>\n",
              "    <tr>\n",
              "      <th>6968</th>\n",
              "      <td>0.0</td>\n",
              "      <td>0.000000</td>\n",
              "      <td>0.0</td>\n",
              "      <td>0.00</td>\n",
              "      <td>0.0</td>\n",
              "      <td>0.0</td>\n",
              "      <td>91.00</td>\n",
              "      <td>0.0</td>\n",
              "      <td>0.00000</td>\n",
              "      <td>32.0</td>\n",
              "      <td>0</td>\n",
              "      <td>1</td>\n",
              "    </tr>\n",
              "    <tr>\n",
              "      <th>7132</th>\n",
              "      <td>0.0</td>\n",
              "      <td>0.000000</td>\n",
              "      <td>0.0</td>\n",
              "      <td>0.00</td>\n",
              "      <td>255.0</td>\n",
              "      <td>0.0</td>\n",
              "      <td>255.00</td>\n",
              "      <td>0.0</td>\n",
              "      <td>0.00000</td>\n",
              "      <td>64.0</td>\n",
              "      <td>0</td>\n",
              "      <td>1</td>\n",
              "    </tr>\n",
              "    <tr>\n",
              "      <th>7171</th>\n",
              "      <td>0.0</td>\n",
              "      <td>0.000000</td>\n",
              "      <td>0.0</td>\n",
              "      <td>0.00</td>\n",
              "      <td>0.0</td>\n",
              "      <td>0.0</td>\n",
              "      <td>50.00</td>\n",
              "      <td>0.0</td>\n",
              "      <td>0.00000</td>\n",
              "      <td>32.0</td>\n",
              "      <td>0</td>\n",
              "      <td>1</td>\n",
              "    </tr>\n",
              "    <tr>\n",
              "      <th>7177</th>\n",
              "      <td>0.0</td>\n",
              "      <td>0.000000</td>\n",
              "      <td>0.0</td>\n",
              "      <td>0.00</td>\n",
              "      <td>0.0</td>\n",
              "      <td>0.0</td>\n",
              "      <td>70.00</td>\n",
              "      <td>0.0</td>\n",
              "      <td>0.00000</td>\n",
              "      <td>32.0</td>\n",
              "      <td>0</td>\n",
              "      <td>1</td>\n",
              "    </tr>\n",
              "  </tbody>\n",
              "</table>\n",
              "<p>2197 rows × 12 columns</p>\n",
              "</div>\n",
              "      <button class=\"colab-df-convert\" onclick=\"convertToInteractive('df-e8c0a86a-59f5-4b59-be9e-26a3e249075c')\"\n",
              "              title=\"Convert this dataframe to an interactive table.\"\n",
              "              style=\"display:none;\">\n",
              "        \n",
              "  <svg xmlns=\"http://www.w3.org/2000/svg\" height=\"24px\"viewBox=\"0 0 24 24\"\n",
              "       width=\"24px\">\n",
              "    <path d=\"M0 0h24v24H0V0z\" fill=\"none\"/>\n",
              "    <path d=\"M18.56 5.44l.94 2.06.94-2.06 2.06-.94-2.06-.94-.94-2.06-.94 2.06-2.06.94zm-11 1L8.5 8.5l.94-2.06 2.06-.94-2.06-.94L8.5 2.5l-.94 2.06-2.06.94zm10 10l.94 2.06.94-2.06 2.06-.94-2.06-.94-.94-2.06-.94 2.06-2.06.94z\"/><path d=\"M17.41 7.96l-1.37-1.37c-.4-.4-.92-.59-1.43-.59-.52 0-1.04.2-1.43.59L10.3 9.45l-7.72 7.72c-.78.78-.78 2.05 0 2.83L4 21.41c.39.39.9.59 1.41.59.51 0 1.02-.2 1.41-.59l7.78-7.78 2.81-2.81c.8-.78.8-2.07 0-2.86zM5.41 20L4 18.59l7.72-7.72 1.47 1.35L5.41 20z\"/>\n",
              "  </svg>\n",
              "      </button>\n",
              "      \n",
              "  <style>\n",
              "    .colab-df-container {\n",
              "      display:flex;\n",
              "      flex-wrap:wrap;\n",
              "      gap: 12px;\n",
              "    }\n",
              "\n",
              "    .colab-df-convert {\n",
              "      background-color: #E8F0FE;\n",
              "      border: none;\n",
              "      border-radius: 50%;\n",
              "      cursor: pointer;\n",
              "      display: none;\n",
              "      fill: #1967D2;\n",
              "      height: 32px;\n",
              "      padding: 0 0 0 0;\n",
              "      width: 32px;\n",
              "    }\n",
              "\n",
              "    .colab-df-convert:hover {\n",
              "      background-color: #E2EBFA;\n",
              "      box-shadow: 0px 1px 2px rgba(60, 64, 67, 0.3), 0px 1px 3px 1px rgba(60, 64, 67, 0.15);\n",
              "      fill: #174EA6;\n",
              "    }\n",
              "\n",
              "    [theme=dark] .colab-df-convert {\n",
              "      background-color: #3B4455;\n",
              "      fill: #D2E3FC;\n",
              "    }\n",
              "\n",
              "    [theme=dark] .colab-df-convert:hover {\n",
              "      background-color: #434B5C;\n",
              "      box-shadow: 0px 1px 3px 1px rgba(0, 0, 0, 0.15);\n",
              "      filter: drop-shadow(0px 1px 2px rgba(0, 0, 0, 0.3));\n",
              "      fill: #FFFFFF;\n",
              "    }\n",
              "  </style>\n",
              "\n",
              "      <script>\n",
              "        const buttonEl =\n",
              "          document.querySelector('#df-e8c0a86a-59f5-4b59-be9e-26a3e249075c button.colab-df-convert');\n",
              "        buttonEl.style.display =\n",
              "          google.colab.kernel.accessAllowed ? 'block' : 'none';\n",
              "\n",
              "        async function convertToInteractive(key) {\n",
              "          const element = document.querySelector('#df-e8c0a86a-59f5-4b59-be9e-26a3e249075c');\n",
              "          const dataTable =\n",
              "            await google.colab.kernel.invokeFunction('convertToInteractive',\n",
              "                                                     [key], {});\n",
              "          if (!dataTable) return;\n",
              "\n",
              "          const docLinkHtml = 'Like what you see? Visit the ' +\n",
              "            '<a target=\"_blank\" href=https://colab.research.google.com/notebooks/data_table.ipynb>data table notebook</a>'\n",
              "            + ' to learn more about interactive tables.';\n",
              "          element.innerHTML = '';\n",
              "          dataTable['output_type'] = 'display_data';\n",
              "          await google.colab.output.renderOutput(dataTable, element);\n",
              "          const docLink = document.createElement('div');\n",
              "          docLink.innerHTML = docLinkHtml;\n",
              "          element.appendChild(docLink);\n",
              "        }\n",
              "      </script>\n",
              "    </div>\n",
              "  </div>\n",
              "  "
            ]
          },
          "metadata": {},
          "execution_count": 84
        }
      ],
      "source": [
        "result[result['Predict'] == 1]"
      ]
    },
    {
      "cell_type": "code",
      "execution_count": null,
      "metadata": {
        "colab": {
          "base_uri": "https://localhost:8080/",
          "height": 677
        },
        "id": "yD7m3P1lppwu",
        "outputId": "dfa101fc-0ecf-4ffe-8d67-1e16f06575df"
      },
      "outputs": [
        {
          "output_type": "execute_result",
          "data": {
            "text/plain": [
              "     Average Packet Size  Flow Bytes/s  Max Packet Length  \\\n",
              "410            23.666667  3.939394e+05               53.0   \n",
              "411            23.666667  1.356994e+05               53.0   \n",
              "412           355.461539  2.584568e+04             1460.0   \n",
              "413           120.500000  2.083721e+06              190.0   \n",
              "414            86.250000  9.521454e+03              117.0   \n",
              "415             0.000000  0.000000e+00                0.0   \n",
              "416            23.666667  6.914894e+05               53.0   \n",
              "417           173.500000  4.175279e+02              261.0   \n",
              "418           116.250000  7.158076e+02              177.0   \n",
              "419           828.235294  4.020667e+03             2920.0   \n",
              "420           256.500000  3.716166e+02             1812.0   \n",
              "421           291.692308  7.189214e+02             3344.0   \n",
              "422            50.166667  8.301863e+03               63.0   \n",
              "423            99.500000  2.217547e+03              113.0   \n",
              "424           238.785714  6.447298e+02             1047.0   \n",
              "425           624.470588  2.099113e+03             4344.0   \n",
              "426           375.437500  9.945432e+01             1460.0   \n",
              "427             0.000000  0.000000e+00                0.0   \n",
              "428           199.916667  4.551212e+02             1066.0   \n",
              "429             9.000000  7.500000e+05                6.0   \n",
              "\n",
              "     Fwd Packet Length Mean  Fwd IAT Min  Total Length of Fwd Packets  \\\n",
              "410               21.666667         48.0                         65.0   \n",
              "411               21.666667          4.0                         65.0   \n",
              "412              147.333333        336.0                        884.0   \n",
              "413               34.000000          3.0                         68.0   \n",
              "414               37.000000          3.0                         74.0   \n",
              "415                0.000000          0.0                          0.0   \n",
              "416               21.666667         46.0                         65.0   \n",
              "417               43.000000          0.0                         43.0   \n",
              "418               37.000000          1.0                         74.0   \n",
              "419               16.240000         48.0                        406.0   \n",
              "420               60.000000        152.0                        240.0   \n",
              "421               48.125000          4.0                        385.0   \n",
              "422               35.000000          3.0                        140.0   \n",
              "423               43.000000          0.0                         43.0   \n",
              "424              146.000000          4.0                       1022.0   \n",
              "425               73.600000        192.0                        736.0   \n",
              "426              198.444444        367.0                       1786.0   \n",
              "427                0.000000          0.0                          0.0   \n",
              "428              138.428571        323.0                        969.0   \n",
              "429                6.000000          0.0                          6.0   \n",
              "\n",
              "     Flow IAT Mean  Fwd Packet Length Max   Fwd IAT Std  Fwd Header Length  \\\n",
              "410   8.250000e+01                   53.0  4.879037e+01               60.0   \n",
              "411   2.395000e+02                   53.0  3.330473e+02               60.0   \n",
              "412   1.489933e+04                  544.0  2.324035e+04              132.0   \n",
              "413   7.166667e+01                   34.0  0.000000e+00               40.0   \n",
              "414   1.078267e+04                   37.0  0.000000e+00               40.0   \n",
              "415   8.500000e+01                    0.0  0.000000e+00               32.0   \n",
              "416   4.700000e+01                   53.0  1.414214e+00               60.0   \n",
              "417   7.280950e+05                   43.0  0.000000e+00               20.0   \n",
              "418   1.993087e+05                   37.0  0.000000e+00               40.0   \n",
              "419   2.101144e+05                  274.0  2.054899e+05              532.0   \n",
              "420   7.888314e+05                  240.0  1.450977e+05              136.0   \n",
              "421   4.395473e+05                  204.0  1.910625e+06              172.0   \n",
              "422   6.408200e+03                   35.0  1.470917e+04              104.0   \n",
              "423   7.034800e+04                   43.0  0.000000e+00               20.0   \n",
              "424   3.988552e+05                  372.0  5.614102e+04              232.0   \n",
              "425   3.160859e+05                  395.0  1.650529e+06              328.0   \n",
              "426   4.026639e+06                  821.0  2.120000e+07              192.0   \n",
              "427   8.100000e+01                    0.0  0.000000e+00               32.0   \n",
              "428   4.791930e+05                  561.0  2.003103e+06              232.0   \n",
              "429   1.600000e+01                    6.0  0.000000e+00               20.0   \n",
              "\n",
              "     Label  Predict  \n",
              "410      0        0  \n",
              "411      0        0  \n",
              "412      0        0  \n",
              "413      0        0  \n",
              "414      0        0  \n",
              "415      0        0  \n",
              "416      0        0  \n",
              "417      0        0  \n",
              "418      0        0  \n",
              "419      0        0  \n",
              "420      0        0  \n",
              "421      0        0  \n",
              "422      0        0  \n",
              "423      0        0  \n",
              "424      1        0  \n",
              "425      1        0  \n",
              "426      0        0  \n",
              "427      1        1  \n",
              "428      1        0  \n",
              "429      0        0  "
            ],
            "text/html": [
              "\n",
              "  <div id=\"df-00e71312-8cc5-4ef2-9357-a6c3c68b3bdd\">\n",
              "    <div class=\"colab-df-container\">\n",
              "      <div>\n",
              "<style scoped>\n",
              "    .dataframe tbody tr th:only-of-type {\n",
              "        vertical-align: middle;\n",
              "    }\n",
              "\n",
              "    .dataframe tbody tr th {\n",
              "        vertical-align: top;\n",
              "    }\n",
              "\n",
              "    .dataframe thead th {\n",
              "        text-align: right;\n",
              "    }\n",
              "</style>\n",
              "<table border=\"1\" class=\"dataframe\">\n",
              "  <thead>\n",
              "    <tr style=\"text-align: right;\">\n",
              "      <th></th>\n",
              "      <th>Average Packet Size</th>\n",
              "      <th>Flow Bytes/s</th>\n",
              "      <th>Max Packet Length</th>\n",
              "      <th>Fwd Packet Length Mean</th>\n",
              "      <th>Fwd IAT Min</th>\n",
              "      <th>Total Length of Fwd Packets</th>\n",
              "      <th>Flow IAT Mean</th>\n",
              "      <th>Fwd Packet Length Max</th>\n",
              "      <th>Fwd IAT Std</th>\n",
              "      <th>Fwd Header Length</th>\n",
              "      <th>Label</th>\n",
              "      <th>Predict</th>\n",
              "    </tr>\n",
              "  </thead>\n",
              "  <tbody>\n",
              "    <tr>\n",
              "      <th>410</th>\n",
              "      <td>23.666667</td>\n",
              "      <td>3.939394e+05</td>\n",
              "      <td>53.0</td>\n",
              "      <td>21.666667</td>\n",
              "      <td>48.0</td>\n",
              "      <td>65.0</td>\n",
              "      <td>8.250000e+01</td>\n",
              "      <td>53.0</td>\n",
              "      <td>4.879037e+01</td>\n",
              "      <td>60.0</td>\n",
              "      <td>0</td>\n",
              "      <td>0</td>\n",
              "    </tr>\n",
              "    <tr>\n",
              "      <th>411</th>\n",
              "      <td>23.666667</td>\n",
              "      <td>1.356994e+05</td>\n",
              "      <td>53.0</td>\n",
              "      <td>21.666667</td>\n",
              "      <td>4.0</td>\n",
              "      <td>65.0</td>\n",
              "      <td>2.395000e+02</td>\n",
              "      <td>53.0</td>\n",
              "      <td>3.330473e+02</td>\n",
              "      <td>60.0</td>\n",
              "      <td>0</td>\n",
              "      <td>0</td>\n",
              "    </tr>\n",
              "    <tr>\n",
              "      <th>412</th>\n",
              "      <td>355.461539</td>\n",
              "      <td>2.584568e+04</td>\n",
              "      <td>1460.0</td>\n",
              "      <td>147.333333</td>\n",
              "      <td>336.0</td>\n",
              "      <td>884.0</td>\n",
              "      <td>1.489933e+04</td>\n",
              "      <td>544.0</td>\n",
              "      <td>2.324035e+04</td>\n",
              "      <td>132.0</td>\n",
              "      <td>0</td>\n",
              "      <td>0</td>\n",
              "    </tr>\n",
              "    <tr>\n",
              "      <th>413</th>\n",
              "      <td>120.500000</td>\n",
              "      <td>2.083721e+06</td>\n",
              "      <td>190.0</td>\n",
              "      <td>34.000000</td>\n",
              "      <td>3.0</td>\n",
              "      <td>68.0</td>\n",
              "      <td>7.166667e+01</td>\n",
              "      <td>34.0</td>\n",
              "      <td>0.000000e+00</td>\n",
              "      <td>40.0</td>\n",
              "      <td>0</td>\n",
              "      <td>0</td>\n",
              "    </tr>\n",
              "    <tr>\n",
              "      <th>414</th>\n",
              "      <td>86.250000</td>\n",
              "      <td>9.521454e+03</td>\n",
              "      <td>117.0</td>\n",
              "      <td>37.000000</td>\n",
              "      <td>3.0</td>\n",
              "      <td>74.0</td>\n",
              "      <td>1.078267e+04</td>\n",
              "      <td>37.0</td>\n",
              "      <td>0.000000e+00</td>\n",
              "      <td>40.0</td>\n",
              "      <td>0</td>\n",
              "      <td>0</td>\n",
              "    </tr>\n",
              "    <tr>\n",
              "      <th>415</th>\n",
              "      <td>0.000000</td>\n",
              "      <td>0.000000e+00</td>\n",
              "      <td>0.0</td>\n",
              "      <td>0.000000</td>\n",
              "      <td>0.0</td>\n",
              "      <td>0.0</td>\n",
              "      <td>8.500000e+01</td>\n",
              "      <td>0.0</td>\n",
              "      <td>0.000000e+00</td>\n",
              "      <td>32.0</td>\n",
              "      <td>0</td>\n",
              "      <td>0</td>\n",
              "    </tr>\n",
              "    <tr>\n",
              "      <th>416</th>\n",
              "      <td>23.666667</td>\n",
              "      <td>6.914894e+05</td>\n",
              "      <td>53.0</td>\n",
              "      <td>21.666667</td>\n",
              "      <td>46.0</td>\n",
              "      <td>65.0</td>\n",
              "      <td>4.700000e+01</td>\n",
              "      <td>53.0</td>\n",
              "      <td>1.414214e+00</td>\n",
              "      <td>60.0</td>\n",
              "      <td>0</td>\n",
              "      <td>0</td>\n",
              "    </tr>\n",
              "    <tr>\n",
              "      <th>417</th>\n",
              "      <td>173.500000</td>\n",
              "      <td>4.175279e+02</td>\n",
              "      <td>261.0</td>\n",
              "      <td>43.000000</td>\n",
              "      <td>0.0</td>\n",
              "      <td>43.0</td>\n",
              "      <td>7.280950e+05</td>\n",
              "      <td>43.0</td>\n",
              "      <td>0.000000e+00</td>\n",
              "      <td>20.0</td>\n",
              "      <td>0</td>\n",
              "      <td>0</td>\n",
              "    </tr>\n",
              "    <tr>\n",
              "      <th>418</th>\n",
              "      <td>116.250000</td>\n",
              "      <td>7.158076e+02</td>\n",
              "      <td>177.0</td>\n",
              "      <td>37.000000</td>\n",
              "      <td>1.0</td>\n",
              "      <td>74.0</td>\n",
              "      <td>1.993087e+05</td>\n",
              "      <td>37.0</td>\n",
              "      <td>0.000000e+00</td>\n",
              "      <td>40.0</td>\n",
              "      <td>0</td>\n",
              "      <td>0</td>\n",
              "    </tr>\n",
              "    <tr>\n",
              "      <th>419</th>\n",
              "      <td>828.235294</td>\n",
              "      <td>4.020667e+03</td>\n",
              "      <td>2920.0</td>\n",
              "      <td>16.240000</td>\n",
              "      <td>48.0</td>\n",
              "      <td>406.0</td>\n",
              "      <td>2.101144e+05</td>\n",
              "      <td>274.0</td>\n",
              "      <td>2.054899e+05</td>\n",
              "      <td>532.0</td>\n",
              "      <td>0</td>\n",
              "      <td>0</td>\n",
              "    </tr>\n",
              "    <tr>\n",
              "      <th>420</th>\n",
              "      <td>256.500000</td>\n",
              "      <td>3.716166e+02</td>\n",
              "      <td>1812.0</td>\n",
              "      <td>60.000000</td>\n",
              "      <td>152.0</td>\n",
              "      <td>240.0</td>\n",
              "      <td>7.888314e+05</td>\n",
              "      <td>240.0</td>\n",
              "      <td>1.450977e+05</td>\n",
              "      <td>136.0</td>\n",
              "      <td>0</td>\n",
              "      <td>0</td>\n",
              "    </tr>\n",
              "    <tr>\n",
              "      <th>421</th>\n",
              "      <td>291.692308</td>\n",
              "      <td>7.189214e+02</td>\n",
              "      <td>3344.0</td>\n",
              "      <td>48.125000</td>\n",
              "      <td>4.0</td>\n",
              "      <td>385.0</td>\n",
              "      <td>4.395473e+05</td>\n",
              "      <td>204.0</td>\n",
              "      <td>1.910625e+06</td>\n",
              "      <td>172.0</td>\n",
              "      <td>0</td>\n",
              "      <td>0</td>\n",
              "    </tr>\n",
              "    <tr>\n",
              "      <th>422</th>\n",
              "      <td>50.166667</td>\n",
              "      <td>8.301863e+03</td>\n",
              "      <td>63.0</td>\n",
              "      <td>35.000000</td>\n",
              "      <td>3.0</td>\n",
              "      <td>140.0</td>\n",
              "      <td>6.408200e+03</td>\n",
              "      <td>35.0</td>\n",
              "      <td>1.470917e+04</td>\n",
              "      <td>104.0</td>\n",
              "      <td>0</td>\n",
              "      <td>0</td>\n",
              "    </tr>\n",
              "    <tr>\n",
              "      <th>423</th>\n",
              "      <td>99.500000</td>\n",
              "      <td>2.217547e+03</td>\n",
              "      <td>113.0</td>\n",
              "      <td>43.000000</td>\n",
              "      <td>0.0</td>\n",
              "      <td>43.0</td>\n",
              "      <td>7.034800e+04</td>\n",
              "      <td>43.0</td>\n",
              "      <td>0.000000e+00</td>\n",
              "      <td>20.0</td>\n",
              "      <td>0</td>\n",
              "      <td>0</td>\n",
              "    </tr>\n",
              "    <tr>\n",
              "      <th>424</th>\n",
              "      <td>238.785714</td>\n",
              "      <td>6.447298e+02</td>\n",
              "      <td>1047.0</td>\n",
              "      <td>146.000000</td>\n",
              "      <td>4.0</td>\n",
              "      <td>1022.0</td>\n",
              "      <td>3.988552e+05</td>\n",
              "      <td>372.0</td>\n",
              "      <td>5.614102e+04</td>\n",
              "      <td>232.0</td>\n",
              "      <td>1</td>\n",
              "      <td>0</td>\n",
              "    </tr>\n",
              "    <tr>\n",
              "      <th>425</th>\n",
              "      <td>624.470588</td>\n",
              "      <td>2.099113e+03</td>\n",
              "      <td>4344.0</td>\n",
              "      <td>73.600000</td>\n",
              "      <td>192.0</td>\n",
              "      <td>736.0</td>\n",
              "      <td>3.160859e+05</td>\n",
              "      <td>395.0</td>\n",
              "      <td>1.650529e+06</td>\n",
              "      <td>328.0</td>\n",
              "      <td>1</td>\n",
              "      <td>0</td>\n",
              "    </tr>\n",
              "    <tr>\n",
              "      <th>426</th>\n",
              "      <td>375.437500</td>\n",
              "      <td>9.945432e+01</td>\n",
              "      <td>1460.0</td>\n",
              "      <td>198.444444</td>\n",
              "      <td>367.0</td>\n",
              "      <td>1786.0</td>\n",
              "      <td>4.026639e+06</td>\n",
              "      <td>821.0</td>\n",
              "      <td>2.120000e+07</td>\n",
              "      <td>192.0</td>\n",
              "      <td>0</td>\n",
              "      <td>0</td>\n",
              "    </tr>\n",
              "    <tr>\n",
              "      <th>427</th>\n",
              "      <td>0.000000</td>\n",
              "      <td>0.000000e+00</td>\n",
              "      <td>0.0</td>\n",
              "      <td>0.000000</td>\n",
              "      <td>0.0</td>\n",
              "      <td>0.0</td>\n",
              "      <td>8.100000e+01</td>\n",
              "      <td>0.0</td>\n",
              "      <td>0.000000e+00</td>\n",
              "      <td>32.0</td>\n",
              "      <td>1</td>\n",
              "      <td>1</td>\n",
              "    </tr>\n",
              "    <tr>\n",
              "      <th>428</th>\n",
              "      <td>199.916667</td>\n",
              "      <td>4.551212e+02</td>\n",
              "      <td>1066.0</td>\n",
              "      <td>138.428571</td>\n",
              "      <td>323.0</td>\n",
              "      <td>969.0</td>\n",
              "      <td>4.791930e+05</td>\n",
              "      <td>561.0</td>\n",
              "      <td>2.003103e+06</td>\n",
              "      <td>232.0</td>\n",
              "      <td>1</td>\n",
              "      <td>0</td>\n",
              "    </tr>\n",
              "    <tr>\n",
              "      <th>429</th>\n",
              "      <td>9.000000</td>\n",
              "      <td>7.500000e+05</td>\n",
              "      <td>6.0</td>\n",
              "      <td>6.000000</td>\n",
              "      <td>0.0</td>\n",
              "      <td>6.0</td>\n",
              "      <td>1.600000e+01</td>\n",
              "      <td>6.0</td>\n",
              "      <td>0.000000e+00</td>\n",
              "      <td>20.0</td>\n",
              "      <td>0</td>\n",
              "      <td>0</td>\n",
              "    </tr>\n",
              "  </tbody>\n",
              "</table>\n",
              "</div>\n",
              "      <button class=\"colab-df-convert\" onclick=\"convertToInteractive('df-00e71312-8cc5-4ef2-9357-a6c3c68b3bdd')\"\n",
              "              title=\"Convert this dataframe to an interactive table.\"\n",
              "              style=\"display:none;\">\n",
              "        \n",
              "  <svg xmlns=\"http://www.w3.org/2000/svg\" height=\"24px\"viewBox=\"0 0 24 24\"\n",
              "       width=\"24px\">\n",
              "    <path d=\"M0 0h24v24H0V0z\" fill=\"none\"/>\n",
              "    <path d=\"M18.56 5.44l.94 2.06.94-2.06 2.06-.94-2.06-.94-.94-2.06-.94 2.06-2.06.94zm-11 1L8.5 8.5l.94-2.06 2.06-.94-2.06-.94L8.5 2.5l-.94 2.06-2.06.94zm10 10l.94 2.06.94-2.06 2.06-.94-2.06-.94-.94-2.06-.94 2.06-2.06.94z\"/><path d=\"M17.41 7.96l-1.37-1.37c-.4-.4-.92-.59-1.43-.59-.52 0-1.04.2-1.43.59L10.3 9.45l-7.72 7.72c-.78.78-.78 2.05 0 2.83L4 21.41c.39.39.9.59 1.41.59.51 0 1.02-.2 1.41-.59l7.78-7.78 2.81-2.81c.8-.78.8-2.07 0-2.86zM5.41 20L4 18.59l7.72-7.72 1.47 1.35L5.41 20z\"/>\n",
              "  </svg>\n",
              "      </button>\n",
              "      \n",
              "  <style>\n",
              "    .colab-df-container {\n",
              "      display:flex;\n",
              "      flex-wrap:wrap;\n",
              "      gap: 12px;\n",
              "    }\n",
              "\n",
              "    .colab-df-convert {\n",
              "      background-color: #E8F0FE;\n",
              "      border: none;\n",
              "      border-radius: 50%;\n",
              "      cursor: pointer;\n",
              "      display: none;\n",
              "      fill: #1967D2;\n",
              "      height: 32px;\n",
              "      padding: 0 0 0 0;\n",
              "      width: 32px;\n",
              "    }\n",
              "\n",
              "    .colab-df-convert:hover {\n",
              "      background-color: #E2EBFA;\n",
              "      box-shadow: 0px 1px 2px rgba(60, 64, 67, 0.3), 0px 1px 3px 1px rgba(60, 64, 67, 0.15);\n",
              "      fill: #174EA6;\n",
              "    }\n",
              "\n",
              "    [theme=dark] .colab-df-convert {\n",
              "      background-color: #3B4455;\n",
              "      fill: #D2E3FC;\n",
              "    }\n",
              "\n",
              "    [theme=dark] .colab-df-convert:hover {\n",
              "      background-color: #434B5C;\n",
              "      box-shadow: 0px 1px 3px 1px rgba(0, 0, 0, 0.15);\n",
              "      filter: drop-shadow(0px 1px 2px rgba(0, 0, 0, 0.3));\n",
              "      fill: #FFFFFF;\n",
              "    }\n",
              "  </style>\n",
              "\n",
              "      <script>\n",
              "        const buttonEl =\n",
              "          document.querySelector('#df-00e71312-8cc5-4ef2-9357-a6c3c68b3bdd button.colab-df-convert');\n",
              "        buttonEl.style.display =\n",
              "          google.colab.kernel.accessAllowed ? 'block' : 'none';\n",
              "\n",
              "        async function convertToInteractive(key) {\n",
              "          const element = document.querySelector('#df-00e71312-8cc5-4ef2-9357-a6c3c68b3bdd');\n",
              "          const dataTable =\n",
              "            await google.colab.kernel.invokeFunction('convertToInteractive',\n",
              "                                                     [key], {});\n",
              "          if (!dataTable) return;\n",
              "\n",
              "          const docLinkHtml = 'Like what you see? Visit the ' +\n",
              "            '<a target=\"_blank\" href=https://colab.research.google.com/notebooks/data_table.ipynb>data table notebook</a>'\n",
              "            + ' to learn more about interactive tables.';\n",
              "          element.innerHTML = '';\n",
              "          dataTable['output_type'] = 'display_data';\n",
              "          await google.colab.output.renderOutput(dataTable, element);\n",
              "          const docLink = document.createElement('div');\n",
              "          docLink.innerHTML = docLinkHtml;\n",
              "          element.appendChild(docLink);\n",
              "        }\n",
              "      </script>\n",
              "    </div>\n",
              "  </div>\n",
              "  "
            ]
          },
          "metadata": {},
          "execution_count": 85
        }
      ],
      "source": [
        "result[410:430]"
      ]
    }
  ],
  "metadata": {
    "colab": {
      "collapsed_sections": [
        "SCEkDfpOFPQX",
        "3P69z9kfupES",
        "eLikdx9Legm0",
        "eh-k8KdMhJ_Q",
        "Iiskwr3VmoL5",
        "5PElFLh5oYzU",
        "pnHSPBrDodIs"
      ],
      "name": "IT496_ViktoriiaO_web-attack-detection.ipynb",
      "provenance": [],
      "include_colab_link": true
    },
    "kernelspec": {
      "display_name": "Python 3",
      "language": "python",
      "name": "python3"
    },
    "language_info": {
      "codemirror_mode": {
        "name": "ipython",
        "version": 3
      },
      "file_extension": ".py",
      "mimetype": "text/x-python",
      "name": "python",
      "nbconvert_exporter": "python",
      "pygments_lexer": "ipython3",
      "version": "3.7.4"
    }
  },
  "nbformat": 4,
  "nbformat_minor": 0
}