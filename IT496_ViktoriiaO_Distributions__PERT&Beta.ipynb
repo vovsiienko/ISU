{
  "nbformat": 4,
  "nbformat_minor": 0,
  "metadata": {
    "colab": {
      "name": "IT496_ViktoriiaO_Distributions_ PERT&Beta.ipynb",
      "provenance": [],
      "collapsed_sections": [],
      "mount_file_id": "1PMwblIIwwJSXAtRGB0UITkC8i3zPWx5p",
      "authorship_tag": "ABX9TyOVMwaQWbAB92LFjXufUc1I",
      "include_colab_link": true
    },
    "kernelspec": {
      "name": "python3",
      "display_name": "Python 3"
    },
    "language_info": {
      "name": "python"
    }
  },
  "cells": [
    {
      "cell_type": "markdown",
      "metadata": {
        "id": "view-in-github",
        "colab_type": "text"
      },
      "source": [
        "<a href=\"https://colab.research.google.com/github/vovsiienko/IT496_Course_acitvities/blob/master/IT496_ViktoriiaO_Distributions__PERT%26Beta.ipynb\" target=\"_parent\"><img src=\"https://colab.research.google.com/assets/colab-badge.svg\" alt=\"Open In Colab\"/></a>"
      ]
    },
    {
      "cell_type": "code",
      "source": [
        "import pandas as pd\n",
        "import tensorflow_probability as tfp\n",
        "tfd=tfp.distributions\n",
        "\n",
        "#you can rececive this from input table\n",
        "tasksDF=pd.read_csv('/content/drive/MyDrive/IT496/PERT-CPM.csv')\n",
        "taskNames=tasksDF['tasks']\n",
        "\n",
        "#creating simulation dataframe\n",
        "simulationDF=pd.DataFrame(columns=taskNames)\n",
        "\n",
        "#then use in your loop below; currently the loop uses the same\n",
        "#... parameters for all three tasks\n",
        "\n",
        "print(simulationDF.columns)\n",
        "\n",
        "for index, task in tasksDF.iterrows():\n",
        "  dist=tfd.PERT(low=task['best'],peak=task['mostL'], high=task['worst'], temperature=4)\n",
        "  simulationDF[task['tasks']]=dist.sample(100000)\n",
        "\n",
        "print(simulationDF.head(2))\n",
        "\n",
        "#print(simulationDF)\n",
        "simulationDF.to_csv('/content/drive/MyDrive/IT496/simulationDataset.csv', index=False)"
      ],
      "metadata": {
        "colab": {
          "base_uri": "https://localhost:8080/"
        },
        "id": "mKBZk0vm04UP",
        "outputId": "deb333a0-2cb6-4947-df77-2705cbe8e293"
      },
      "execution_count": 8,
      "outputs": [
        {
          "output_type": "stream",
          "name": "stdout",
          "text": [
            "Index(['A', 'B', 'C', 'D', 'E', 'F', 'G', 'H', 'I', 'J', 'EOP'], dtype='object', name='tasks')\n",
            "tasks         A         B         C         D         E         F         G  \\\n",
            "0      6.779389  4.518081  4.588156  2.693674  5.198787  4.360078  6.896626   \n",
            "1      6.653130  4.175826  2.546335  2.622374  5.509676  5.459227  3.933105   \n",
            "\n",
            "tasks         H          I         J  EOP  \n",
            "0      1.181040  13.967291  2.581787  NaN  \n",
            "1      5.066621  19.884926  2.304569  NaN  \n"
          ]
        }
      ]
    },
    {
      "cell_type": "code",
      "source": [
        ""
      ],
      "metadata": {
        "id": "pWHQfsVBYyD5"
      },
      "execution_count": null,
      "outputs": []
    }
  ]
}